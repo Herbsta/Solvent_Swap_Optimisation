{
 "cells": [
  {
   "cell_type": "code",
   "execution_count": null,
   "metadata": {},
   "outputs": [],
   "source": [
    "import sqlite3\n",
    "import pandas as pd\n",
    "import numpy as np\n",
    "from scipy.optimize import curve_fit\n",
    "import matplotlib.pyplot as plt"
   ]
  },
  {
   "cell_type": "code",
   "execution_count": null,
   "metadata": {},
   "outputs": [],
   "source": [
    "# Connect to the database\n",
    "db_path = '../../db/MasterDatabase.db'\n",
    "connection = sqlite3.connect(db_path)\n",
    "\n",
    "compound = 323\n",
    "solvent_1 = 180\n",
    "solvent_2 = 962\n",
    "# compound = 1983\n",
    "# solvent_1 = 679\n",
    "# solvent_2 = 962\n",
    "# compound = 2378\n",
    "# solvent_1 = 702\n",
    "# solvent_2 = 962\n",
    "\n",
    "# Query to select the required columns\n",
    "query = f\"\"\"\n",
    "SELECT solvent_1_weight_fraction, solubility_g_g, temperature\n",
    "FROM solubility\n",
    "WHERE solvent_1 = {solvent_1} AND solvent_2 = {solvent_2} AND compound_id = {compound}\n",
    "\"\"\"\n",
    "\n",
    "# Execute the query and load the data into a pandas DataFrame\n",
    "df = pd.read_sql_query(query, connection)\n",
    "display(df)\n",
    "\n",
    "# Close the database connection\n",
    "connection.close()"
   ]
  },
  {
   "cell_type": "code",
   "execution_count": null,
   "metadata": {},
   "outputs": [],
   "source": [
    "# Filter the DataFrame for a specific temperature, e.g., 25°C\n",
    "specific_temperature = 303.15\n",
    "filtered_df = df[df['temperature'] == specific_temperature]\n",
    "display(filtered_df)\n",
    "\n",
    "solvent_2_pure = filtered_df.loc[filtered_df['solvent_1_weight_fraction'] == 0, 'solubility_g_g'].values[0]\n",
    "solvent_1_pure = filtered_df.loc[filtered_df['solvent_1_weight_fraction'] == 1.0000, 'solubility_g_g'].values[0]\n",
    "\n",
    "print(f\"Solvent 1 pure solubility: {solvent_1_pure} g/g\")\n",
    "print(f\"Solvent 2 pure solubility: {solvent_2_pure} g/g\")"
   ]
  },
  {
   "cell_type": "markdown",
   "metadata": {},
   "source": [
    "## JA Function"
   ]
  },
  {
   "cell_type": "code",
   "execution_count": null,
   "metadata": {},
   "outputs": [],
   "source": [
    "def jouyban_acree(f1, J0, J1, J2):\n",
    "    import numpy as np\n",
    "    \n",
    "    # Calculate fraction of second solvent\n",
    "    f2 = 1 - f1\n",
    "    \n",
    "    # Modified interaction term that reduces likelihood of bimodal behavior\n",
    "    interaction_term = J0 * f1 * f2 + J1 * f1 * f2 * (2*f1 - 1) + J2 * f1 * f2 * (2*f1 - 1)**2\n",
    "    \n",
    "    # Calculate logarithm of solubility in the mixture\n",
    "    log_Cm = f1 * np.log(solvent_1_pure) + f2 * np.log(solvent_2_pure) + \\\n",
    "             interaction_term / specific_temperature\n",
    "    \n",
    "    # Return the solubility in the mixture\n",
    "    return np.exp(log_Cm)\n",
    "\n",
    "\n",
    "popt, pcov = curve_fit(jouyban_acree, df_filtered['solvent_1_weight_fraction'], df_filtered['solubility_g_g'],p0=(1, 1, 1))\n",
    "# Extract the fitted parameters\n",
    "J0, J1, J2 = popt\n",
    "print(f\"Jouyban-Acree parameters: J0={J0}, J1={J1}, J2={J2}\")"
   ]
  },
  {
   "cell_type": "code",
   "execution_count": null,
   "metadata": {},
   "outputs": [],
   "source": [
    "x_values = np.linspace(0, 1, 101)\n",
    "\n",
    "jouyban_acree_fit_values = jouyban_acree(x_values, J0, J1, J2)\n",
    "\n",
    "# Plot the JA model\n",
    "plt.figure(figsize=(10, 6))\n",
    "plt.plot(x_values, jouyban_acree_fit_values, label='Jouyban-Acree Model', color='blue')\n",
    "\n",
    "# Add the experimental data points to the plot\n",
    "plt.scatter(filtered_df['solvent_1_weight_fraction'], filtered_df['solubility_g_g'], color='red', label='Experimental Data', zorder=5)\n",
    "plt.xlabel('Solvent 1 Weight Fraction')\n",
    "plt.ylabel('Solubility (g/g)')\n",
    "plt.title('Solubility vs Solvent 1 Weight Fraction (JA Model)')\n",
    "plt.legend()\n",
    "plt.grid(True)\n",
    "plt.show()"
   ]
  },
  {
   "cell_type": "markdown",
   "metadata": {},
   "source": [
    "## Combined Jouyban-Acree-van't Hoff"
   ]
  },
  {
   "cell_type": "markdown",
   "metadata": {},
   "source": [
    "Paper 12"
   ]
  },
  {
   "cell_type": "code",
   "execution_count": null,
   "metadata": {},
   "outputs": [],
   "source": [
    "def vant_hoff_model(T, alpha, beta):\n",
    "    \"\"\"\n",
    "    van't Hoff model for solubility\n",
    "    \n",
    "    Parameters:\n",
    "    T (array-like): Temperature in Kelvin\n",
    "    alpha, beta (float): van't Hoff parameters\n",
    "    \n",
    "    Returns:\n",
    "    array-like: Natural logarithm of solubility\n",
    "    \"\"\"\n",
    "    return alpha + beta/T\n",
    "\n",
    "params_solvent1, _ = curve_fit(vant_hoff_model, df[df['solvent_1_weight_fraction'] == 1.0]['temperature'], np.log(df[df['solvent_1_weight_fraction'] == 1.0]['solubility_g_g']))\n",
    "params_solvent2, _ = curve_fit(vant_hoff_model, df[df['solvent_1_weight_fraction'] == 0.0]['temperature'], np.log(df[df['solvent_1_weight_fraction'] == 0.0]['solubility_g_g']))\n",
    "alpha1, beta1 = params_solvent1\n",
    "alpha2, beta2 = params_solvent2\n",
    "\n",
    "def jouyban_acree_vant_hoff(independent_vars, J0, J1, J2):\n",
    "    \"\"\"    \n",
    "    Parameters:\n",
    "    independent_vars (tuple): Tuple containing (f1, T) where:\n",
    "        f1 (array-like): Volume or mole fraction of solvent 1\n",
    "        T (array-like): Absolute temperature in Kelvin\n",
    "    alpha1, beta1 (float): van't Hoff constants for solvent 1\n",
    "    alpha2, beta2 (float): van't Hoff constants for solvent 2\n",
    "    J0, J1, J2 (float): Jouyban-Acree model parameters\n",
    "    \n",
    "    Returns:\n",
    "    array-like: Natural logarithm of solubility in the mixed solvent\n",
    "    \"\"\"   \n",
    "    # Unpack independent variables\n",
    "    f1, T = independent_vars\n",
    "    \n",
    "    # Calculate fraction of second solvent\n",
    "    f2 = 1 - f1\n",
    "    \n",
    "    # Calculate van't Hoff terms for each pure solvent\n",
    "    vant_hoff_term1 = f1 * (alpha1 + beta1/T)\n",
    "    vant_hoff_term2 = f2 * (alpha2 + beta2/T)\n",
    "    \n",
    "    # Calculate Jouyban-Acree interaction term\n",
    "    interaction_term = f1 * f2 * (J0/T + J1*(f1-f2)/T + J2*(f1-f2)**2/T)\n",
    "    \n",
    "    # Calculate logarithm of solubility in the mixture\n",
    "    ln_Xm = vant_hoff_term1 + vant_hoff_term2 + interaction_term\n",
    "    \n",
    "    return np.exp(ln_Xm)\n",
    "\n",
    "popt, pcov = curve_fit(jouyban_acree_vant_hoff, (df['solvent_1_weight_fraction'],df['temperature']), df['solubility_g_g'])\n",
    "# Extract the fitted parameters\n",
    "J0, J1, J2 = popt\n",
    "print(f\"Combined Jouyban-Acree-van't Hoff parameters: alpha1={alpha1}, beta1={beta1}, alpha2={alpha2}, beta2={beta2}, J0={J0}, J1={J1}, J2={J2}\")"
   ]
  },
  {
   "cell_type": "markdown",
   "metadata": {},
   "source": [
    "## Combined Jouyban-Acree with Apelblat"
   ]
  },
  {
   "cell_type": "code",
   "execution_count": null,
   "metadata": {},
   "outputs": [],
   "source": [
    "def jouyban_acree_apelblat(independent_vars, B1, B2, B3, B4, B5, B6, B7, B8, B9):\n",
    "    \"\"\"\n",
    "    Implementation of Equation 9: Combined Jouyban-Acree-Apelblat Model\n",
    "    \n",
    "    Parameters:\n",
    "    f1 (float): Volume or mole fraction of solvent 1\n",
    "    T (float): Absolute temperature in Kelvin\n",
    "    B1-B9 (float): Model parameters\n",
    "    \n",
    "    Returns:\n",
    "    float: Natural logarithm of solubility in the mixed solvent\n",
    "    \"\"\"\n",
    "    f1, T = independent_vars\n",
    "    \n",
    "    \n",
    "    # Calculate logarithm of solubility using the combined model\n",
    "    ln_Xm = (B1 + B2/T + B3*np.log(T) + \n",
    "             B4*f1 + B5*f1/T + \n",
    "             B6*f1**2/T + B7*f1**3/T + B8*f1**4/T + \n",
    "             B9*f1*np.log(T))\n",
    "    \n",
    "    return np.exp(ln_Xm)\n",
    "\n",
    "popt, pcov = curve_fit(jouyban_acree_apelblat, (df['solvent_1_weight_fraction'],df['temperature']), df['solubility_g_g'])\n",
    "# Extract the fitted parameters\n",
    "B1, B2, B3, B4, B5, B6, B7, B8, B9 = popt\n",
    "print(f\"Combined Jouyban-Acree-Apelblat parameters: B1={B1}, B2={B2}, B3={B3}, B4={B4}, B5={B5}, B6={B6}, B7={B7}, B8={B8}, B9={B9}\")"
   ]
  },
  {
   "cell_type": "markdown",
   "metadata": {},
   "source": [
    "# Plots"
   ]
  },
  {
   "cell_type": "code",
   "execution_count": null,
   "metadata": {},
   "outputs": [],
   "source": [
    "x_values = np.linspace(0, 1, 101)\n",
    "\n",
    "log_linear_values = jouyban_acree_vant_hoff((x_values, 298.15), J0, J1, J2)\n",
    "apelbat_values = jouyban_acree_apelblat((x_values, 298.15), B1, B2, B3, B4, B5, B6, B7, B8, B9)\n",
    "\n",
    "plt.figure(figsize=(10, 6))\n",
    "plt.plot(x_values, log_linear_values, label='Extended Log-Linear Model', color='orange')\n",
    "plt.plot(x_values, apelbat_values, label='Apelblat Model', color='purple')\n",
    "# Add the experimental data points to the plot\n",
    "scatter = plt.scatter(df['solvent_1_weight_fraction'], df['solubility_g_g'], c=df['temperature'], cmap='viridis', label='Experimental Data', zorder=5)\n",
    "plt.xlabel('Solvent 1 Weight Fraction')\n",
    "plt.ylabel('Solubility (g/g)')\n",
    "plt.title('Solubility vs Solvent 1 Weight Fraction (JA Model)')\n",
    "plt.legend()\n",
    "plt.colorbar(scatter, label='Temperature (K)', ticks=df['temperature'].unique())  # Add a colorbar with exact temperature values\n",
    "plt.grid(True)\n",
    "plt.show()\n"
   ]
  }
 ],
 "metadata": {
  "kernelspec": {
   "display_name": "venv",
   "language": "python",
   "name": "python3"
  },
  "language_info": {
   "codemirror_mode": {
    "name": "ipython",
    "version": 3
   },
   "file_extension": ".py",
   "mimetype": "text/x-python",
   "name": "python",
   "nbconvert_exporter": "python",
   "pygments_lexer": "ipython3",
   "version": "3.11.0"
  }
 },
 "nbformat": 4,
 "nbformat_minor": 2
}
