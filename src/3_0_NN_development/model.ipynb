{
 "cells": [
  {
   "cell_type": "code",
   "execution_count": null,
   "id": "0",
   "metadata": {},
   "outputs": [],
   "source": [
    "import sys\n",
    "import os\n",
    "\n",
    "src_dir = os.path.abspath(os.path.join(os.getcwd(), \"../2_0_empirical_modelling\"))\n",
    "\n",
    "# Add the parent directory to sys.path\n",
    "sys.path.append(src_dir)\n",
    "\n",
    "# Now, import the module\n",
    "from generator import javh_groups, ja_groups, JAModel, JAVHModel\n",
    "import matplotlib.pyplot as plt\n",
    "import pandas as pd\n",
    "import numpy as np\n",
    "\n",
    "# Set up initial configurations for plots\n",
    "plt.rcParams.update({\n",
    "    'font.size': 12,          # Default font size\n",
    "    'axes.labelsize': 14,     # Axis labels\n",
    "    'axes.titlesize': 16,     # Subplot titles\n",
    "    'xtick.labelsize': 12,    # X-axis tick labels\n",
    "    'ytick.labelsize': 12,    # Y-axis tick labels\n",
    "    'legend.fontsize': 12,    # Legend text\n",
    "    'figure.titlesize': 18    # Figure title\n",
    "})"
   ]
  },
  {
   "cell_type": "code",
   "execution_count": null,
   "id": "1",
   "metadata": {},
   "outputs": [],
   "source": [
    "modelsJAVH = JAVHModel.load_from_csvs('../../output')\n",
    "modelsJA = JAModel.load_from_csvs('../../output')"
   ]
  },
  {
   "cell_type": "markdown",
   "id": "2",
   "metadata": {},
   "source": [
    "# Fixed Everything\n",
    "- API\n",
    "- Solvent 1\t\n",
    "- Solvent 2\t\n",
    "- Temperature\n"
   ]
  },
  {
   "cell_type": "markdown",
   "id": "3",
   "metadata": {},
   "source": [
    "From the ja_groups data alone, can a NN predict the values for the J parameters?"
   ]
  },
  {
   "cell_type": "markdown",
   "id": "4",
   "metadata": {},
   "source": [
    "### Inputs\n",
    "- solvent_1 - one hot encoded\n",
    "- solvent_2 - one hot encoded\n",
    "- compound_id - one hot encoded\n",
    "- temperature - scaled\n",
    "- solvent_1_pure - scaled\n",
    "- solvent_2_pure - scaled"
   ]
  },
  {
   "cell_type": "markdown",
   "id": "5",
   "metadata": {},
   "source": [
    "- system - solvent_1, solvent_2, compound_id, temperature encoded as a system"
   ]
  },
  {
   "cell_type": "markdown",
   "id": "6",
   "metadata": {},
   "source": [
    "### Outputs\n",
    "- J0, J1, J2 - scaled"
   ]
  },
  {
   "cell_type": "code",
   "execution_count": null,
   "id": "7",
   "metadata": {},
   "outputs": [],
   "source": [
    "class MLModel:\n",
    "    best_JAModel = JAModel.load_from_csvs('../../output')[-1]\n",
    "    groups = JAModel.groups\n",
    "    df = best_JAModel.results_df[['group_index','solvent_1','solvent_2','compound_id','temperature','solvent_1_pure','solvent_2_pure','J0','J1','J2']].copy()"
   ]
  },
  {
   "cell_type": "code",
   "execution_count": null,
   "id": "8",
   "metadata": {},
   "outputs": [],
   "source": [
    "from sklearn.preprocessing import OneHotEncoder\n",
    "from sklearn.preprocessing import RobustScaler\n",
    "\n",
    "import tensorflow as tf\n",
    "from tensorflow.keras.models import Sequential\n",
    "from tensorflow.keras.layers import Dense, Dropout\n",
    "from sklearn.model_selection import train_test_split\n",
    "\n",
    "from graphing import plot_JA\n",
    "\n",
    "\n",
    "\n",
    "class FixedMLModel(MLModel):\n",
    "    def __init__(self):\n",
    "        self.df = self.df.copy()\n",
    "        \n",
    "        self.input_df, self.output_df = self.in_out_split()\n",
    "        self.input_encoded = self.encoding()\n",
    "        self.output_scaled = self.decoding()\n",
    "        \n",
    "        \n",
    "    def in_out_split(self):\n",
    "        self.df['System_SSCT'] = (self.df['solvent_1'].astype(str) + '-' + \n",
    "                    self.df['solvent_2'].astype(str) + '-' + \n",
    "                    self.df['compound_id'].astype(str) + '-' + \n",
    "                    self.df['temperature'].astype(str))\n",
    "        \n",
    "        return self.df[['System_SSCT']], self.df[['J0','J1','J2']]\n",
    "    \n",
    "    def encoding(self):\n",
    "        self.encoder = OneHotEncoder(sparse_output=False, handle_unknown='ignore')\n",
    "        \n",
    "        system_encoded = self.encoder.fit_transform(self.input_df[['System_SSCT']])\n",
    "\n",
    "        # Create a DataFrame with the encoded data\n",
    "        system_encoded_df = pd.DataFrame(\n",
    "            system_encoded,\n",
    "            columns=[f'system_{val}' for val in self.encoder.categories_[0]],\n",
    "            index=self.input_df.index\n",
    "        )\n",
    "\n",
    "        input_encoded = pd.concat([self.input_df, system_encoded_df], axis=1)\n",
    "        input_encoded.drop(columns=['System_SSCT'], inplace=True)\n",
    "        \n",
    "        return input_encoded\n",
    "\n",
    "    def decoding(self):\n",
    "        # Create and fit the robust scaler\n",
    "        self.output_scaler = RobustScaler()\n",
    "        output_scaled = self.output_scaler.fit_transform(self.output_df)\n",
    "\n",
    "        # Convert scaled data back to DataFrame with original column names\n",
    "        output_df_scaled = pd.DataFrame(\n",
    "            output_scaled,\n",
    "            columns=self.output_df.columns,\n",
    "            index=self.output_df.index\n",
    "        )\n",
    "        \n",
    "        return output_df_scaled\n",
    "    \n",
    "    def train_model(self):\n",
    "        # Split the data into training and testing sets\n",
    "        X = self.input_encoded.values  # Features\n",
    "        y = self.output_scaled.values  # Target values\n",
    "        X_train, X_test, y_train, y_test = train_test_split(X, y, test_size=0.2, random_state=42)\n",
    "\n",
    "        # Build the model\n",
    "        model = Sequential([\n",
    "            Dense(256, activation='relu', input_shape=(X_train.shape[1],)),\n",
    "            Dropout(0.3),\n",
    "            Dense(128, activation='relu'),\n",
    "            Dropout(0.2),\n",
    "            Dense(128, activation='relu'),\n",
    "            Dropout(0.2),\n",
    "            Dense(128, activation='relu'),\n",
    "            Dropout(0.2),\n",
    "            Dense(64, activation='relu'),\n",
    "            Dense(3)  # 3 output parameters: J0, J1, J2\n",
    "        ])\n",
    "\n",
    "        # Compile the model\n",
    "        model.compile(optimizer='adam', loss='mse', metrics=['mae','mape'])\n",
    "\n",
    "        # Train the model\n",
    "        history = model.fit(\n",
    "            X_train, y_train,\n",
    "            epochs=200,\n",
    "            batch_size=32,\n",
    "            validation_split=0.2,\n",
    "            verbose=1\n",
    "        )\n",
    "        \n",
    "        \n",
    "        # Evaluate the model\n",
    "        loss, mae = model.evaluate(X_test, y_test, verbose=0)\n",
    "        print(f\"Test Mean Absolute Error: {mae:.4f}\")\n",
    "\n",
    "        # Make predictions\n",
    "        y_pred = model.predict(X_test)\n",
    "\n",
    "        # Convert scaled predictions back to original scale\n",
    "        y_pred_original = self.output_scaler.inverse_transform(y_pred)\n",
    "        y_test_original = self.output_scaler.inverse_transform(y_test)\n",
    "\n",
    "        # Calculate and print the mean absolute error for each parameter in original scale\n",
    "        mae_original = np.mean(np.abs(y_pred_original - y_test_original), axis=0)\n",
    "        print(f\"MAE in original scale - J0: {mae_original[0]:.2f}, J1: {mae_original[1]:.2f}, J2: {mae_original[2]:.2f}\")\n",
    "        # Calculate Mean Absolute Percentage Error (MAPE) for each parameter\n",
    "        mape = np.mean(np.abs((y_test_original - y_pred_original) / y_test_original), axis=0) * 100\n",
    "        print(f\"MAPE - J0: {mape[0]:.2f}%, J1: {mape[1]:.2f}%, J2: {mape[2]:.2f}%\")\n",
    "\n",
    "        \n",
    "        self.model = model\n",
    "        self.history = history\n",
    "        \n",
    "        return model, history\n",
    "\n",
    "    def save_model(self,name='fixed_model'):\n",
    "        if not hasattr(self, 'model'):\n",
    "            raise ValueError(\"Model has not been trained yet. Call train_model() first.\")\n",
    "        # Save the model\n",
    "        self.model.save(f'{name}.keras')\n",
    "        \n",
    "    def load_model(self, name='fixed_model'):\n",
    "        # Load the model\n",
    "        self.model = tf.keras.models.load_model(f'{name}.keras')\n",
    "    \n",
    "    def predict_j_parameters(self, system_name):\n",
    "        if not hasattr(self, 'model'):\n",
    "            raise ValueError(\"Model has not been trained yet. Call train_model() first.\")\n",
    "        \n",
    "        input_data = pd.DataFrame({'System_SSCT': [system_name]})\n",
    "        \n",
    "        # Encode the system\n",
    "        system_encoded = self.encoder.transform(input_data[['System_SSCT']])\n",
    "        \n",
    "        # Make prediction using the model\n",
    "        scaled_prediction = self.model.predict(system_encoded, verbose=0)\n",
    "        \n",
    "        # Convert back to original scale\n",
    "        original_prediction = self.output_scaler.inverse_transform(scaled_prediction)\n",
    "                \n",
    "        # Return the results as a dictionary\n",
    "        return {\n",
    "            'J0': original_prediction[0][0],\n",
    "            'J1': original_prediction[0][1],\n",
    "            'J2': original_prediction[0][2]\n",
    "        }\n",
    "    \n",
    "    def plot(self, system_name,solubility_1, solubility_2, experimental_data=None,temperature=298.15):\n",
    "        if not hasattr(self, 'model'):\n",
    "            raise ValueError(\"Model has not been trained yet. Call train_model() first.\")\n",
    "        \n",
    "        # Make predictions using the model\n",
    "        predictions = self.predict_j_parameters(system_name)\n",
    "        \n",
    "        # Plotting\n",
    "        plot_JA(predictions['J0'],predictions['J1'],predictions['J2'],solubility_1, solubility_2,temperature=temperature,experimental_data=experimental_data)"
   ]
  },
  {
   "cell_type": "code",
   "execution_count": null,
   "id": "9",
   "metadata": {},
   "outputs": [],
   "source": [
    "model = FixedMLModel()"
   ]
  },
  {
   "cell_type": "code",
   "execution_count": null,
   "id": "10",
   "metadata": {},
   "outputs": [],
   "source": [
    "model.train_model()"
   ]
  },
  {
   "cell_type": "code",
   "execution_count": null,
   "id": "11",
   "metadata": {},
   "outputs": [],
   "source": [
    "model.load_model('fixed_model')"
   ]
  },
  {
   "cell_type": "code",
   "execution_count": null,
   "id": "12",
   "metadata": {},
   "outputs": [],
   "source": [
    "model.save_model('fixed_model')"
   ]
  },
  {
   "cell_type": "code",
   "execution_count": null,
   "id": "13",
   "metadata": {},
   "outputs": [],
   "source": [
    "def get_system(index):\n",
    "    system = model.df.iloc[index]\n",
    "    return system['solvent_1'], system['solvent_2'], system['compound_id'], system['temperature']"
   ]
  },
  {
   "cell_type": "code",
   "execution_count": null,
   "id": "14",
   "metadata": {},
   "outputs": [],
   "source": [
    "n = -1"
   ]
  },
  {
   "cell_type": "code",
   "execution_count": null,
   "id": "15",
   "metadata": {},
   "outputs": [],
   "source": [
    "n += 1\n",
    "solvent_1,solvent_2,compound_id ,temperature = get_system(n)\n",
    "row = model.df[(model.df['compound_id'] == compound_id) & (model.df['temperature'] == temperature) & (model.df['solvent_1'] == solvent_1) & (model.df['solvent_2'] == solvent_2)]\n",
    "\n",
    "model.plot(row['System_SSCT'].values[0],\n",
    "           row['solvent_1_pure'].values[0],\n",
    "           row['solvent_2_pure'].values[0],\n",
    "           temperature=row['temperature'].values[0],\n",
    "           experimental_data=model.groups[row['group_index'].values[0]])"
   ]
  },
  {
   "cell_type": "code",
   "execution_count": null,
   "id": "16",
   "metadata": {},
   "outputs": [],
   "source": [
    "# Get actual J values from row\n",
    "actual_values = {\n",
    "    'J0': f\"{row['J0'].values[0]:.3g}\",\n",
    "    'J1': f\"{row['J1'].values[0]:.3g}\",\n",
    "    'J2': f\"{row['J2'].values[0]:.3g}\"\n",
    "}\n",
    "\n",
    "# Get predicted values\n",
    "predicted_values = {\n",
    "    'J0': f\"{float(model.predict_j_parameters(row['System_SSCT'].values[0])['J0']):.3g}\",\n",
    "    'J1': f\"{float(model.predict_j_parameters(row['System_SSCT'].values[0])['J1']):.3g}\",\n",
    "    'J2': f\"{float(model.predict_j_parameters(row['System_SSCT'].values[0])['J2']):.3g}\"\n",
    "}\n",
    "\n",
    "# Display both in a clear format\n",
    "print(\"Actual J parameters:\")\n",
    "for param, value in actual_values.items():\n",
    "    print(f\"{param}: {value}\")\n",
    "\n",
    "print(\"\\nPredicted J parameters:\")\n",
    "for param, value in predicted_values.items():\n",
    "    print(f\"{param}: {value}\")"
   ]
  },
  {
   "cell_type": "code",
   "execution_count": null,
   "id": "17",
   "metadata": {},
   "outputs": [],
   "source": [
    "import sqlite3"
   ]
  },
  {
   "cell_type": "code",
   "execution_count": null,
   "id": "18",
   "metadata": {},
   "outputs": [],
   "source": [
    "connection = sqlite3.connect(f'../../db/MasterDatabase.db')\n",
    "df = pd.read_sql_query(\"SELECT * FROM compounds\", connection)\n",
    "connection.close()\n",
    "\n",
    "compounds = pd.concat(ja_groups, ignore_index=True)['compound_id'].unique()\n",
    "\n",
    "compound_features_df = df.merge(pd.DataFrame(compounds, columns=['compound_id']),\n",
    "    how='inner',\n",
    "    left_on='id',\n",
    "    right_on='compound_id').drop(columns=['canonical_smiles','molecular_name','id'])\n",
    "\n",
    "compound_features_df = compound_features_df.dropna(axis=1)"
   ]
  },
  {
   "cell_type": "code",
   "execution_count": null,
   "id": "19",
   "metadata": {},
   "outputs": [],
   "source": [
    "class APIVariableModel(FixedMLModel):\n",
    "    def encoding(self):\n",
    "        self.encoder = OneHotEncoder(sparse_output=False, handle_unknown='ignore')\n",
    "\n",
    "    def in_out_split(self):\n",
    "        self.df['System_SST'] = (self.df['solvent_1'].astype(str) + '-' + \n",
    "                    self.df['solvent_2'].astype(str) + '-' + \n",
    "                    self.df['temperature'].astype(str))\n",
    "        \n",
    "        input_df = self.df[['System_SST','compound_id']].copy()\n",
    "        \n",
    "        input_df = input_df.merge(compound_features_df, how='inner', left_on='compound_id', right_on='compound_id').drop(columns=['compound_id'])\n",
    "        \n",
    "        return input_df, self.df[['J0','J1','J2']]\n",
    "\n",
    "    def encoding(self):\n",
    "        self.encoder = OneHotEncoder(sparse_output=False, handle_unknown='ignore')\n",
    "        \n",
    "        system_encoded = self.encoder.fit_transform(self.input_df[['System_SST']])\n",
    "\n",
    "        # Create a DataFrame with the encoded data\n",
    "        system_encoded_df = pd.DataFrame(\n",
    "            system_encoded,\n",
    "            columns=[f'system_{val}' for val in self.encoder.categories_[0]],\n",
    "            index=self.input_df.index\n",
    "        )\n",
    "        self.input_scaler = RobustScaler()\n",
    "        \n",
    "        scaler_input = self.input_df.drop(columns=['System_SST']).copy()\n",
    "\n",
    "        input_scaled = self.input_scaler.fit_transform(scaler_input)\n",
    "        \n",
    "        # Convert scaled data back to DataFrame with original column names\n",
    "        input_df_scaled = pd.DataFrame(\n",
    "            input_scaled,\n",
    "            columns=scaler_input.columns,\n",
    "            index=scaler_input.index\n",
    "        )\n",
    "        input_encoded = pd.concat([input_df_scaled, system_encoded_df], axis=1)\n",
    "        \n",
    "        return input_encoded"
   ]
  },
  {
   "cell_type": "code",
   "execution_count": null,
   "id": "20",
   "metadata": {},
   "outputs": [],
   "source": [
    "model2 = APIVariableModel()\n",
    "\n",
    "model2.train_model()\n"
   ]
  },
  {
   "cell_type": "code",
   "execution_count": null,
   "id": "21",
   "metadata": {
    "vscode": {
     "languageId": "julia"
    }
   },
   "outputs": [],
   "source": [
    "\n"
   ]
  }
 ],
 "metadata": {
  "kernelspec": {
   "display_name": "venv",
   "language": "python",
   "name": "python3"
  },
  "language_info": {
   "codemirror_mode": {
    "name": "ipython",
    "version": 3
   },
   "file_extension": ".py",
   "mimetype": "text/x-python",
   "name": "python",
   "nbconvert_exporter": "python",
   "pygments_lexer": "ipython3",
   "version": "3.11.0"
  }
 },
 "nbformat": 4,
 "nbformat_minor": 5
}
