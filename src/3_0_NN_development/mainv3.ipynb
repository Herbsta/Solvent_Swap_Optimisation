{
 "cells": [
  {
   "cell_type": "code",
   "execution_count": null,
   "id": "0",
   "metadata": {},
   "outputs": [],
   "source": [
    "from mainv3 import SystemDesign"
   ]
  },
  {
   "cell_type": "code",
   "execution_count": null,
   "id": "1",
   "metadata": {},
   "outputs": [],
   "source": [
    "from vae_model import VAEWithFeatureSelection\n",
    "\n",
    "# Create and setup the system with VAE model\n",
    "system = SystemDesign(\n",
    "    system_columns=['solvent_1', 'solvent_2', 'temperature'],\n",
    "    raw_data_path='curve_fit_results_x_is_7.csv',\n",
    "    extra_fitted_points=1,\n",
    "    target_columns=['J0', 'J1', 'J2']\n",
    ")\n",
    "\n",
    "# Train the VAE model\n",
    "system.train_model(\n",
    "    model_class=VAEWithFeatureSelection,\n",
    "    feature_selection_method='random_forest',\n",
    "    n_features=10,\n",
    "    keep_prefixes=['solvent_1_pure', 'solvent_2_pure', 'system', 'solubility_', 'temperature'],\n",
    "    epochs=50,\n",
    "    batch_size=32,\n",
    "    verbose=1,\n",
    "    optimize_hyperparams=False,\n",
    "    n_calls=11,\n",
    "    latent_dim=16,\n",
    "    kl_weight=0.001\n",
    ")"
   ]
  },
  {
   "cell_type": "code",
   "execution_count": null,
   "id": "2",
   "metadata": {},
   "outputs": [],
   "source": [
    "system.save('vae_model.pkl')"
   ]
  },
  {
   "cell_type": "code",
   "execution_count": null,
   "id": "3",
   "metadata": {},
   "outputs": [],
   "source": [
    "system = system.load('vae_model.pkl')"
   ]
  },
  {
   "cell_type": "code",
   "execution_count": null,
   "id": "4",
   "metadata": {},
   "outputs": [],
   "source": [
    "from neural_network_model import NeuralNetworkWithFeatureSelection\n",
    "\n",
    "# Create and setup the system\n",
    "system = SystemDesign(\n",
    "    system_columns=['solvent_1','solvent_2','temperature'],\n",
    "    raw_data_path='curve_fit_results_x_is_7.csv',\n",
    "    extra_fitted_points=1,\n",
    "    target_columns=['J0','J1','J2']\n",
    ")\n",
    "\n",
    "# Train the model\n",
    "system.train_model(\n",
    "    model_class=NeuralNetworkWithFeatureSelection,\n",
    "    feature_selection_method='bayesian',\n",
    "    n_features=1000,\n",
    "    keep_prefixes=['solvent_1_pure','solvent_2_pure','system','solubility_','temperature'],\n",
    "    epochs=1000, \n",
    "    batch_size=32, \n",
    "    verbose=1,\n",
    "    optimize_hyperparams=True,\n",
    "    n_calls=11\n",
    ")\n",
    "\n",
    "# Evaluate the model\n",
    "system.evaluate_model()\n",
    "\n",
    "# Get predictions and metrics\n",
    "predictions, actuals, mae = system.get_predictions_and_metrics()"
   ]
  },
  {
   "cell_type": "code",
   "execution_count": null,
   "id": "5",
   "metadata": {},
   "outputs": [],
   "source": [
    "system.save(\"NN_model.pkl\")"
   ]
  },
  {
   "cell_type": "code",
   "execution_count": null,
   "id": "6",
   "metadata": {},
   "outputs": [],
   "source": [
    "system.load(\"NN_model.pkl\")"
   ]
  },
  {
   "cell_type": "code",
   "execution_count": null,
   "id": "7",
   "metadata": {},
   "outputs": [],
   "source": [
    "from xgb_model import XGBoostWithFeatureSelection\n",
    "\n",
    "# Create and setup the system with XGBoost model\n",
    "system = SystemDesign(\n",
    "    system_columns=['solvent_1', 'solvent_2', 'temperature'],\n",
    "    raw_data_path='curve_fit_results_x_is_7.csv',\n",
    "    extra_fitted_points=1,\n",
    "    target_columns=['J0', 'J1', 'J2']\n",
    ")\n",
    "\n",
    "# Train the XGBoost model\n",
    "system.train_model(\n",
    "    model_class=XGBoostWithFeatureSelection,\n",
    "    feature_selection_method='random_forest',\n",
    "    n_features=10,\n",
    "    keep_prefixes=['solvent_1_pure', 'solvent_2_pure', 'system', 'solubility_', 'temperature'],\n",
    "    verbose=1,\n",
    "    optimize_hyperparams=False,\n",
    "    n_calls=11,\n",
    "    n_estimators=100,\n",
    "    max_depth=6\n",
    ")\n",
    "\n",
    "# Evaluate the model\n",
    "system.evaluate_model()\n",
    "\n",
    "# Get predictions and metrics\n",
    "predictions, actuals, mae = system.get_predictions_and_metrics()\n",
    "\n",
    "# Plot feature importance\n",
    "system.model.plot_feature_importance(top_n=15)\n"
   ]
  },
  {
   "cell_type": "code",
   "execution_count": null,
   "id": "8",
   "metadata": {},
   "outputs": [],
   "source": [
    "system.save(\"XGB_model.pkl\")"
   ]
  },
  {
   "cell_type": "code",
   "execution_count": null,
   "id": "9",
   "metadata": {},
   "outputs": [],
   "source": [
    "system.load(\"XGB_model.pkl\")"
   ]
  }
 ],
 "metadata": {
  "kernelspec": {
   "display_name": "venv",
   "language": "python",
   "name": "python3"
  },
  "language_info": {
   "codemirror_mode": {
    "name": "ipython",
    "version": 3
   },
   "file_extension": ".py",
   "mimetype": "text/x-python",
   "name": "python",
   "nbconvert_exporter": "python",
   "pygments_lexer": "ipython3",
   "version": "3.11.0"
  }
 },
 "nbformat": 4,
 "nbformat_minor": 5
}
