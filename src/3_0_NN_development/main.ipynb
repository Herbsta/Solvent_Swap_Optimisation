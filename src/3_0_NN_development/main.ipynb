{
 "cells": [
  {
   "cell_type": "code",
   "execution_count": null,
   "id": "0",
   "metadata": {},
   "outputs": [],
   "source": [
    "from data_module import DataLoader, DataProcessor\n"
   ]
  },
  {
   "cell_type": "code",
   "execution_count": null,
   "id": "1",
   "metadata": {},
   "outputs": [],
   "source": [
    "data = DataLoader(\n",
    "    data_path='../../output',\n",
    "    database_path='../../db/MasterDatabase.db')\n",
    "\n",
    "data.load_data_from_csvs('curve_fit_results_x_is_6.csv')\n",
    "data.load_compound_descriptors()\n",
    "data.load_solvent_descriptors()\n",
    "\n",
    "dataprocessor = DataProcessor(data.raw_data)\n",
    "\n",
    "system_columns = ['solvent_1','solvent_2','compound_id','temperature']\n",
    "dataprocessor.create_system(system_columns)\n",
    "\n",
    "if 'compound_id' not in system_columns:\n",
    "    dataprocessor.merge_compound_descriptors(\n",
    "        compound_descriptors=data.compound_descriptors,\n",
    "        compound_id_col='compound_id',\n",
    "        desc_id_col='id',\n",
    "    )\n",
    "\n",
    "if 'solvent_1' not in system_columns:\n",
    "    dataprocessor.merge_solvent_descriptors(\n",
    "        solvent_descriptors=data.solvent_descriptors,\n",
    "        solvent_col='solvent_1',\n",
    "        desc_id_col='id',\n",
    "        prefix='solvent_1_'\n",
    "    )\n",
    "    \n",
    "if 'solvent_2' not in system_columns:\n",
    "    dataprocessor.merge_solvent_descriptors(\n",
    "        solvent_descriptors=data.solvent_descriptors,\n",
    "        solvent_col='solvent_1',\n",
    "        desc_id_col='id',\n",
    "        prefix='solvent_1_'\n",
    "    )\n",
    "    \n",
    "dataprocessor.processed_data"
   ]
  }
 ],
 "metadata": {
  "kernelspec": {
   "display_name": "venv",
   "language": "python",
   "name": "python3"
  },
  "language_info": {
   "codemirror_mode": {
    "name": "ipython",
    "version": 3
   },
   "file_extension": ".py",
   "mimetype": "text/x-python",
   "name": "python",
   "nbconvert_exporter": "python",
   "pygments_lexer": "ipython3",
   "version": "3.11.0"
  }
 },
 "nbformat": 4,
 "nbformat_minor": 5
}
