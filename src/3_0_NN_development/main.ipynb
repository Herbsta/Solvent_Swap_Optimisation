{
 "cells": [
  {
   "cell_type": "code",
   "execution_count": null,
   "id": "0",
   "metadata": {},
   "outputs": [],
   "source": [
    "from main import SystemDesign"
   ]
  },
  {
   "cell_type": "code",
   "execution_count": null,
   "id": "1",
   "metadata": {},
   "outputs": [],
   "source": [
    "system = SystemDesign(\n",
    "    system_columns=['solvent_1','solvent_2','temperature'],\n",
    "    raw_data_path='curve_fit_results_x_is_7.csv',\n",
    "    extra_fitted_points=1,\n",
    "    target_columns=['J0','J1','J2']\n",
    ")\n",
    "\n",
    "# Train the model\n",
    "system.train_model(\n",
    "    feature_selection_method='random_forest',\n",
    "    n_features=10,\n",
    "    keep_prefixes=['solvent_1_pure','solvent_2_pure','system','solubility_','temperature'],\n",
    "    epochs=1000, \n",
    "    batch_size=32, \n",
    "    verbose=1\n",
    ")\n",
    "\n",
    "# Evaluate the model\n",
    "system.evaluate_model()\n",
    "\n",
    "# Get predictions and metrics\n",
    "predictions, actuals, mae = system.get_predictions_and_metrics()"
   ]
  },
  {
   "cell_type": "code",
   "execution_count": null,
   "id": "2",
   "metadata": {},
   "outputs": [],
   "source": [
    "system.model.model.save('model.keras')"
   ]
  }
 ],
 "metadata": {
  "kernelspec": {
   "display_name": "venv",
   "language": "python",
   "name": "python3"
  },
  "language_info": {
   "codemirror_mode": {
    "name": "ipython",
    "version": 3
   },
   "file_extension": ".py",
   "mimetype": "text/x-python",
   "name": "python",
   "nbconvert_exporter": "python",
   "pygments_lexer": "ipython3",
   "version": "3.11.0"
  }
 },
 "nbformat": 4,
 "nbformat_minor": 5
}
