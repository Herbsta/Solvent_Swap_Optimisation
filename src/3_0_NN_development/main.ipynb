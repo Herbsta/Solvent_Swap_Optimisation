{
 "cells": [
  {
   "cell_type": "code",
   "execution_count": null,
   "id": "0",
   "metadata": {},
   "outputs": [],
   "source": [
    "from main import SystemDesign\n",
    "import pickle\n"
   ]
  },
  {
   "cell_type": "code",
   "execution_count": null,
   "id": "1",
   "metadata": {},
   "outputs": [],
   "source": [
    "system = SystemDesign(\n",
    "    system_columns=['solvent_1'],\n",
    "    raw_data_path='curve_fit_results_x_is_7.csv',\n",
    "    extra_fitted_points=3,\n",
    "    target_columns=['J0','J1','J2']\n",
    ")\n",
    "\n",
    "# Train the model\n",
    "system.train_model(\n",
    "    feature_selection_method='random_forest',\n",
    "    n_features=10,\n",
    "    keep_prefixes=['solvent_1_pure','solvent_2_pure','system','solubility_','temperature'],\n",
    "    epochs=1000, \n",
    "    batch_size=32, \n",
    "    verbose=1\n",
    ")\n",
    "\n",
    "# Evaluate the model\n",
    "system.evaluate_model()\n",
    "\n",
    "# Get predictions and metrics\n",
    "predictions, actuals, mae = system.get_predictions_and_metrics()"
   ]
  },
  {
   "cell_type": "code",
   "execution_count": null,
   "id": "2",
   "metadata": {},
   "outputs": [],
   "source": [
    "from groups import ja_groups"
   ]
  },
  {
   "cell_type": "code",
   "execution_count": null,
   "id": "3",
   "metadata": {},
   "outputs": [],
   "source": [
    "x,y = system.get_data_split_df()\n",
    "y_pred = system.predict_model(x)"
   ]
  },
  {
   "cell_type": "code",
   "execution_count": null,
   "id": "4",
   "metadata": {},
   "outputs": [],
   "source": [
    "from data_module import DataProcessor"
   ]
  },
  {
   "cell_type": "code",
   "execution_count": null,
   "id": "5",
   "metadata": {},
   "outputs": [],
   "source": [
    "otherDataProcessor,_ = DataProcessor.CreateDataProcessor(\"curve_fit_results_x_is_3.csv\"')"
   ]
  },
  {
   "cell_type": "code",
   "execution_count": null,
   "id": "6",
   "metadata": {},
   "outputs": [],
   "source": [
    "results_df = system.dataprocess.raw_data[['group_index','temperature','solvent_1_pure','solvent_2_pure','J0','J1','J2']].merge(\n",
    "    y_pred,\n",
    "    left_index=True,\n",
    "    right_index=True,\n",
    "    suffixes=('','_pred')\n",
    ").merge(\n",
    "    otherDataProcessor.raw_data[['group_index','J0','J1','J2']],\n",
    "    on='group_index',\n",
    "    suffixes=('', '_JA5')\n",
    ").drop_duplicates()"
   ]
  },
  {
   "cell_type": "code",
   "execution_count": null,
   "id": "7",
   "metadata": {},
   "outputs": [],
   "source": [
    "results_df"
   ]
  },
  {
   "cell_type": "code",
   "execution_count": null,
   "id": "8",
   "metadata": {},
   "outputs": [],
   "source": [
    "import matplotlib.pyplot as plt\n",
    "\n",
    "# Set up initial configurations for plots\n",
    "plt.rcParams.update({\n",
    "    'font.size': 12,          # Default font size\n",
    "    'axes.labelsize': 14,     # Axis labels\n",
    "    'axes.titlesize': 16,     # Subplot titles\n",
    "    'xtick.labelsize': 12,    # X-axis tick labels\n",
    "    'ytick.labelsize': 12,    # Y-axis tick labels\n",
    "    'legend.fontsize': 12,    # Legend text\n",
    "    'figure.titlesize': 18    # Figure title\n",
    "})"
   ]
  },
  {
   "cell_type": "code",
   "execution_count": null,
   "id": "9",
   "metadata": {},
   "outputs": [],
   "source": [
    "from equations import JouybanAcreeModel\n",
    "import numpy as np"
   ]
  },
  {
   "cell_type": "code",
   "execution_count": null,
   "id": "10",
   "metadata": {},
   "outputs": [],
   "source": [
    "n = -1"
   ]
  },
  {
   "cell_type": "code",
   "execution_count": null,
   "id": "11",
   "metadata": {},
   "outputs": [],
   "source": [
    "n +=1 \n",
    "group_index = int(results_df.iloc[n]['group_index'])\n",
    "group = ja_groups[group_index]\n",
    "\n",
    "\n",
    "\n",
    "ja_model = JouybanAcreeModel()  \n",
    "x_values = np.linspace(0, 1, 101)\n",
    "\n",
    "JA_fit_real = ja_model.predict(\n",
    "    x_values, \n",
    "    results_df['solvent_1_pure'].iloc[n],\n",
    "    results_df['solvent_2_pure'].iloc[n], \n",
    "    results_df['temperature'].iloc[n],\n",
    "    results_df['J0_JA5'].iloc[n],\n",
    "    results_df['J1_JA5'].iloc[n],\n",
    "    results_df['J2_JA5'].iloc[n],\n",
    ")\n",
    "\n",
    "JA_fit_NN = ja_model.predict(\n",
    "    x_values, \n",
    "    results_df['solvent_1_pure'].iloc[n],\n",
    "    results_df['solvent_2_pure'].iloc[n], \n",
    "    results_df['temperature'].iloc[n],\n",
    "    results_df['J0_pred'].iloc[n],\n",
    "    results_df['J1_pred'].iloc[n],\n",
    "    results_df['J2_pred'].iloc[n],\n",
    ")\n",
    "\n",
    "# Plot the JA model\n",
    "plt.figure(figsize=(16*1.3/3, 9*1.3/3))\n",
    "plt.plot(x_values, JA_fit_real, label='Empirical', color='blue')\n",
    "plt.plot(x_values, JA_fit_NN, label='NN', color='red')\n",
    "\n",
    "\n",
    "# Add the experimental data points to the plot\n",
    "plt.scatter(group['solvent_1_weight_fraction'], group['solubility_g_g'], color='gray', label='Experimental Data')\n",
    "plt.xlabel('Solvent 1 Weight Fraction')\n",
    "plt.ylabel('Solubility (g/g)')\n",
    "plt.legend()\n",
    "plt.grid(True)\n",
    "plt.show()\n",
    "\n",
    "\n"
   ]
  },
  {
   "cell_type": "code",
   "execution_count": null,
   "id": "12",
   "metadata": {},
   "outputs": [],
   "source": [
    "import pandas as pd\n",
    "import scipy.stats as stats\n",
    "from sklearn.metrics import mean_squared_error, r2_score\n",
    "from tqdm import tqdm"
   ]
  },
  {
   "cell_type": "code",
   "execution_count": null,
   "id": "13",
   "metadata": {},
   "outputs": [],
   "source": [
    "results = []\n",
    "\n",
    "\n",
    "for gn in tqdm(range(len(ja_groups)), desc=\"Processing groups\"):\n",
    "    chosen_df = ja_groups[gn]\n",
    "    \n",
    "    predicted_solubility = ja_model.predict(\n",
    "        chosen_df['solvent_1_weight_fraction'],\n",
    "        results_df['solvent_1_pure'].iloc[n],\n",
    "        results_df['solvent_2_pure'].iloc[n], \n",
    "        results_df['temperature'].iloc[n],\n",
    "        results_df['J0_pred'].iloc[n],\n",
    "        results_df['J1_pred'].iloc[n],\n",
    "        results_df['J2_pred'].iloc[n],\n",
    "    )\n",
    "\n",
    "    mape = np.mean(np.abs((chosen_df['solubility_g_g'] - predicted_solubility) / chosen_df['solubility_g_g'])) * 100\n",
    "    \n",
    "    results.append({\n",
    "        'group_index': gn,\n",
    "        'mape': mape,\n",
    "        'logmape': np.log10(mape) if mape > 0 else np.inf,\n",
    "    })\n",
    "    \n",
    "results_df = pd.DataFrame(results)\n",
    "    "
   ]
  },
  {
   "cell_type": "code",
   "execution_count": null,
   "id": "14",
   "metadata": {},
   "outputs": [],
   "source": [
    "results_df.sort_values(by='logmape', ascending=True).describe()\n"
   ]
  },
  {
   "cell_type": "code",
   "execution_count": null,
   "id": "15",
   "metadata": {},
   "outputs": [],
   "source": [
    "merged_df = results_df[['group_index','logmape','mape']].merge(\n",
    "    otherDataProcessor.raw_data,\n",
    "    on='group_index',\n",
    "    suffixes=('_model1', '_model2')\n",
    ")"
   ]
  },
  {
   "cell_type": "code",
   "execution_count": null,
   "id": "16",
   "metadata": {},
   "outputs": [],
   "source": [
    "def paired_t_test(merged_df, verbose=True):   \n",
    "    # Merge the two dataframes on the group index\n",
    "    \n",
    "    # Perform paired t-test on logmape values\n",
    "    t_statistic, p_value = stats.ttest_rel(merged_df['logmape_model1'], \n",
    "                                            merged_df['logmape_model2'], \n",
    "                                            alternative='less')\n",
    "    \n",
    "    if verbose:\n",
    "        print(\"\\nPaired t-test results:\")\n",
    "        print(f\"t-statistic: {t_statistic:.4f}\")\n",
    "        print(f\"p-value: {p_value:.4f}\")\n",
    "        \n",
    "        if p_value < 0.025:\n",
    "            print(f\"There is a statistically significant difference with model having lower logmape values (p < {0.025}).\")\n",
    "        else:\n",
    "            print(f\"There is no statistically significant evidence that model has lower logmape values (p >= {0.025}).\")\n",
    "\n",
    "        # Calculate additional statistics for verbose mode\n",
    "        diff_mean = merged_df['logmape_model1'].mean() - merged_df['logmape_model2'].mean()\n",
    "        num_better = sum(merged_df['logmape_model1'] < merged_df['logmape_model2'])\n",
    "        total_cases = len(merged_df)\n",
    "        percentage_better = (num_better / total_cases) * 100\n",
    "        \n",
    "        print(f\"\\nAdditional statistics:\")\n",
    "        print(f\"Mean difference in logmape: {diff_mean:.4f}\")\n",
    "        print(f\"Cases where model performs better: {num_better} out of {total_cases} ({percentage_better:.1f}%)\")\n",
    "\n",
    "        # Visualize the differences\n",
    "        plt.figure(figsize=(8, 4))\n",
    "\n",
    "        # Histogram of differences\n",
    "        plt.subplot(1, 2, 1)\n",
    "        \n",
    "        merged_df['diff'] = merged_df['logmape_model1'] - merged_df['logmape_model2']\n",
    "        \n",
    "        plt.hist(merged_df['diff'], bins=30, color='skyblue', edgecolor='black')\n",
    "        plt.axvline(x=0, color='red', linestyle='--')\n",
    "        plt.xlabel('Difference in logmape')\n",
    "        plt.ylabel('Frequency')\n",
    "        plt.title('Histogram of Differences')\n",
    "\n",
    "        # Scatter plot comparing the two sets\n",
    "        plt.subplot(1, 2, 2)\n",
    "        plt.scatter(merged_df['logmape_model1'], merged_df['logmape_model2'], alpha=0.5)\n",
    "        plt.plot([-15, 5], [-15, 5], 'r--')  # Line y=x for reference\n",
    "        plt.title('Comparison of logmape Values')\n",
    "        plt.grid(True, alpha=0.3)\n",
    "\n",
    "        plt.tight_layout()\n",
    "        plt.show()\n",
    "\n",
    "    return t_statistic, p_value, merged_df['mape_model1'] - merged_df['mape_model2']"
   ]
  },
  {
   "cell_type": "code",
   "execution_count": null,
   "id": "17",
   "metadata": {},
   "outputs": [],
   "source": [
    "paired_t_test(merged_df, verbose=True)"
   ]
  },
  {
   "cell_type": "markdown",
   "id": "18",
   "metadata": {},
   "source": [
    "# New Start"
   ]
  },
  {
   "cell_type": "code",
   "execution_count": null,
   "id": "19",
   "metadata": {},
   "outputs": [],
   "source": []
  },
  {
   "cell_type": "code",
   "execution_count": null,
   "id": "20",
   "metadata": {},
   "outputs": [],
   "source": [
    "from vae_model import VariationalAutoencoderWithFeatureSelection\n",
    "from mainv3 import SystemDesign\n",
    "\n",
    "# Create and setup the system with VAE model\n",
    "system = SystemDesign(\n",
    "    system_columns=['solvent_1', 'solvent_2', 'temperature'],\n",
    "    raw_data_path='curve_fit_results_x_is_7.csv',\n",
    "    extra_fitted_points=1,\n",
    "    target_columns=['J0', 'J1', 'J2']\n",
    ")\n",
    "\n",
    "# Train the VAE model\n",
    "system.train_model(\n",
    "    model_class=VariationalAutoencoderWithFeatureSelection,\n",
    "    feature_selection_method='random_forest',\n",
    "    n_features=10,\n",
    "    keep_prefixes=['solvent_1_pure', 'solvent_2_pure', 'system', 'solubility_', 'temperature'],\n",
    "    epochs=1000,\n",
    "    batch_size=32,\n",
    "    verbose=1,\n",
    "    optimize_hyperparams=True,\n",
    "    n_calls=11,\n",
    "    latent_dim=16,\n",
    "    kl_weight=0.001\n",
    ")"
   ]
  },
  {
   "cell_type": "code",
   "execution_count": null,
   "id": "21",
   "metadata": {},
   "outputs": [],
   "source": [
    "# Create and setup the system\n",
    "system = SystemDesign(\n",
    "    system_columns=['solvent_1','solvent_2','temperature'],\n",
    "    raw_data_path='curve_fit_results_x_is_7.csv',\n",
    "    extra_fitted_points=1,\n",
    "    target_columns=['J0','J1','J2']\n",
    ")\n",
    "\n",
    "# Train the model\n",
    "system.train_model(\n",
    "    feature_selection_method='random_forest',\n",
    "    n_features=10,\n",
    "    keep_prefixes=['solvent_1_pure','solvent_2_pure','system','solubility_','temperature'],\n",
    "    epochs=1000, \n",
    "    batch_size=32, \n",
    "    verbose=1,\n",
    "    optimize_hyperparams=True,\n",
    "    n_calls=11\n",
    ")\n",
    "\n",
    "# Evaluate the model\n",
    "system.evaluate_model()\n",
    "\n",
    "# Get predictions and metrics\n",
    "predictions, actuals, mae = system.get_predictions_and_metrics()\n",
    "\n",
    "system.model.save_model('trained_model.keras')"
   ]
  },
  {
   "cell_type": "code",
   "execution_count": null,
   "id": "22",
   "metadata": {},
   "outputs": [],
   "source": [
    "from xgb_model import XGBoostModelWithFeatureSelection\n",
    "\n",
    "# Create and setup the system with XGBoost model\n",
    "system = SystemDesign(\n",
    "    system_columns=['solvent_1', 'solvent_2', 'temperature'],\n",
    "    raw_data_path='curve_fit_results_x_is_7.csv',\n",
    "    extra_fitted_points=1,\n",
    "    target_columns=['J0', 'J1', 'J2']\n",
    ")\n",
    "\n",
    "# Train the XGBoost model\n",
    "system.train_model(\n",
    "    model_class=XGBoostModelWithFeatureSelection,\n",
    "    feature_selection_method='random_forest',\n",
    "    n_features=10,\n",
    "    keep_prefixes=['solvent_1_pure', 'solvent_2_pure', 'system', 'solubility_', 'temperature'],\n",
    "    verbose=1,\n",
    "    optimize_hyperparams=True,\n",
    "    n_calls=11,\n",
    "    n_estimators=100,\n",
    "    max_depth=6\n",
    ")\n",
    "\n",
    "# Evaluate the model\n",
    "system.evaluate_model()\n",
    "\n",
    "# Get predictions and metrics\n",
    "predictions, actuals, mae = system.get_predictions_and_metrics()\n",
    "\n",
    "# Plot feature importance\n",
    "system.model.plot_feature_importance(top_n=15)\n",
    "\n",
    "# Save the model\n",
    "system.model.save_model('trained_xgboost_model.json')"
   ]
  }
 ],
 "metadata": {
  "kernelspec": {
   "display_name": "venv",
   "language": "python",
   "name": "python3"
  },
  "language_info": {
   "codemirror_mode": {
    "name": "ipython",
    "version": 3
   },
   "file_extension": ".py",
   "mimetype": "text/x-python",
   "name": "python",
   "nbconvert_exporter": "python",
   "pygments_lexer": "ipython3",
   "version": "3.11.0"
  }
 },
 "nbformat": 4,
 "nbformat_minor": 5
}
