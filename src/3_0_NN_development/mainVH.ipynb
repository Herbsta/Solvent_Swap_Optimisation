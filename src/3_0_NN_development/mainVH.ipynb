{
 "cells": [
  {
   "cell_type": "code",
   "execution_count": null,
   "id": "0",
   "metadata": {},
   "outputs": [],
   "source": [
    "from main import SystemDesign\n",
    "import pickle\n"
   ]
  },
  {
   "cell_type": "code",
   "execution_count": null,
   "id": "1",
   "metadata": {},
   "outputs": [],
   "source": [
    "system = SystemDesign(\n",
    "    system_columns=['solvent_1','solvent_2','temperature'],\n",
    "    raw_data_path='curve_fit_results_x_is_7.csv',\n",
    "    extra_fitted_points=1,\n",
    "    target_columns=['J0','J1','J2']\n",
    ")\n",
    "\n",
    "# Train the model\n",
    "system.train_model(\n",
    "    feature_selection_method='random_forest',\n",
    "    n_features=10,\n",
    "    keep_prefixes=['solvent_1_pure','solvent_2_pure','system','solubility_','temperature'],\n",
    "    epochs=100, \n",
    "    batch_size=32, \n",
    "    verbose=1\n",
    ")\n",
    "\n",
    "# Evaluate the model\n",
    "system.evaluate_model()\n",
    "\n",
    "# Get predictions and metrics\n",
    "predictions, actuals, mae = system.get_predictions_and_metrics()"
   ]
  },
  {
   "cell_type": "code",
   "execution_count": null,
   "id": "2",
   "metadata": {},
   "outputs": [],
   "source": [
    "# Save the trained system to a file\n",
    "with open('system_model.pkl', 'wb') as file:\n",
    "    pickle.dump(system, file)\n",
    "    \n",
    "print(\"System model saved to 'system_model.pkl'\")\n",
    "\n",
    "# If you want to load it later, you can use:\n",
    "# with open('system_model.pkl', 'rb') as file:\n",
    "#     loaded_system = pickle.load(file)"
   ]
  },
  {
   "cell_type": "code",
   "execution_count": null,
   "id": "3",
   "metadata": {},
   "outputs": [],
   "source": [
    "with open('system_model.pkl', 'rb') as file:\n",
    "    loaded_system = pickle.load(file)"
   ]
  },
  {
   "cell_type": "code",
   "execution_count": null,
   "id": "4",
   "metadata": {},
   "outputs": [],
   "source": [
    "from groups import ja_groups"
   ]
  },
  {
   "cell_type": "code",
   "execution_count": null,
   "id": "5",
   "metadata": {},
   "outputs": [],
   "source": [
    "x,y = system.get_data_split_df()\n",
    "y_pred = system.predict_model(x[:5])"
   ]
  },
  {
   "cell_type": "code",
   "execution_count": null,
   "id": "6",
   "metadata": {},
   "outputs": [],
   "source": [
    "results_df = system.dataprocess.raw_data[['group_index','temperature','solvent_1_pure','solvent_2_pure']].merge(\n",
    "    y,\n",
    "    left_index=True, \n",
    "    right_index=True,\n",
    ").merge(\n",
    "    y_pred,\n",
    "    left_index=True,\n",
    "    right_index=True,\n",
    "    suffixes=('','_pred')\n",
    ")"
   ]
  },
  {
   "cell_type": "code",
   "execution_count": null,
   "id": "7",
   "metadata": {},
   "outputs": [],
   "source": [
    "results_df"
   ]
  },
  {
   "cell_type": "code",
   "execution_count": null,
   "id": "8",
   "metadata": {},
   "outputs": [],
   "source": [
    "import matplotlib.pyplot as plt\n",
    "\n",
    "# Set up initial configurations for plots\n",
    "plt.rcParams.update({\n",
    "    'font.size': 12,          # Default font size\n",
    "    'axes.labelsize': 14,     # Axis labels\n",
    "    'axes.titlesize': 16,     # Subplot titles\n",
    "    'xtick.labelsize': 12,    # X-axis tick labels\n",
    "    'ytick.labelsize': 12,    # Y-axis tick labels\n",
    "    'legend.fontsize': 12,    # Legend text\n",
    "    'figure.titlesize': 18    # Figure title\n",
    "})"
   ]
  },
  {
   "cell_type": "code",
   "execution_count": null,
   "id": "9",
   "metadata": {},
   "outputs": [],
   "source": [
    "from equations import JouybanAcreeModel\n",
    "import numpy as np"
   ]
  },
  {
   "cell_type": "code",
   "execution_count": null,
   "id": "10",
   "metadata": {},
   "outputs": [],
   "source": [
    "n = -1"
   ]
  },
  {
   "cell_type": "code",
   "execution_count": null,
   "id": "11",
   "metadata": {},
   "outputs": [],
   "source": [
    "n +=1 \n",
    "group_index = int(results_df.iloc[n]['group_index'])\n",
    "group = ja_groups[group_index]\n",
    "\n",
    "\n",
    "\n",
    "ja_model = JouybanAcreeModel()  \n",
    "x_values = np.linspace(0, 1, 101)\n",
    "\n",
    "JA_fit_real = ja_model.predict(\n",
    "    x_values, \n",
    "    results_df['solvent_1_pure'].iloc[n],\n",
    "    results_df['solvent_2_pure'].iloc[n], \n",
    "    results_df['temperature'].iloc[n],\n",
    "    results_df['J0'].iloc[n],\n",
    "    results_df['J1'].iloc[n],\n",
    "    results_df['J2'].iloc[n],\n",
    ")\n",
    "\n",
    "JA_fit_NN = ja_model.predict(\n",
    "    x_values, \n",
    "    results_df['solvent_1_pure'].iloc[n],\n",
    "    results_df['solvent_2_pure'].iloc[n], \n",
    "    results_df['temperature'].iloc[n],\n",
    "    results_df['J0'].iloc[n],\n",
    "    results_df['J1'].iloc[n],\n",
    "    results_df['J2'].iloc[n],\n",
    ")\n",
    "\n",
    "# Plot the JA model\n",
    "plt.figure(figsize=(16*1.3/3, 9*1.3/3))\n",
    "plt.plot(x_values, JA_fit_real, label='Empirical', color='blue')\n",
    "plt.plot(x_values, JA_fit_real, label='NN', color='red')\n",
    "\n",
    "\n",
    "# Add the experimental data points to the plot\n",
    "plt.scatter(group['solvent_1_weight_fraction'], group['solubility_g_g'], color='lightgray', label='Experimental Data', zorder=5)\n",
    "plt.xlabel('Solvent 1 Weight Fraction')\n",
    "plt.ylabel('Solubility (g/g)')\n",
    "plt.legend()\n",
    "plt.grid(True)\n",
    "plt.show()\n",
    "\n",
    "\n"
   ]
  }
 ],
 "metadata": {
  "kernelspec": {
   "display_name": "venv",
   "language": "python",
   "name": "python3"
  },
  "language_info": {
   "codemirror_mode": {
    "name": "ipython",
    "version": 3
   },
   "file_extension": ".py",
   "mimetype": "text/x-python",
   "name": "python",
   "nbconvert_exporter": "python",
   "pygments_lexer": "ipython3",
   "version": "3.11.0"
  }
 },
 "nbformat": 4,
 "nbformat_minor": 5
}
