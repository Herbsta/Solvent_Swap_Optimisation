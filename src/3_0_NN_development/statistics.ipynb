{
 "cells": [
  {
   "cell_type": "code",
   "execution_count": null,
   "id": "0",
   "metadata": {},
   "outputs": [],
   "source": [
    "from mainv3 import SystemDesign\n",
    "import matplotlib.pyplot as plt\n",
    "from equations import JouybanAcreeModel\n",
    "import numpy as np\n",
    "from groups import ja_groups\n",
    "\n",
    "# Set up initial configurations for plots\n",
    "plt.rcParams.update({\n",
    "    'font.size': 12,          # Default font size\n",
    "    'axes.labelsize': 14,     # Axis labels\n",
    "    'axes.titlesize': 16,     # Subplot titles\n",
    "    'xtick.labelsize': 12,    # X-axis tick labels\n",
    "    'ytick.labelsize': 12,    # Y-axis tick labels\n",
    "    'legend.fontsize': 12,    # Legend text\n",
    "    'figure.titlesize': 18    # Figure title\n",
    "})"
   ]
  },
  {
   "cell_type": "code",
   "execution_count": null,
   "id": "1",
   "metadata": {},
   "outputs": [],
   "source": [
    "system_load = SystemDesign.load(\"../../output/models/vae_system_s_2_50_features.pkl\")\n",
    "\n",
    "x,y = system_load.get_data_split_df()\n",
    "y_pred = system_load.predict_model(x)\n",
    "\n",
    "from data_module import DataProcessor\n",
    "otherDataProcessor,_ = DataProcessor.CreateDataProcessor(\"curve_fit_results_x_is_3.csv\")\n",
    "results_df = system_load.dataprocess.raw_data[['group_index','temperature','solvent_1_pure','solvent_2_pure','J0','J1','J2']].merge(\n",
    "    y_pred,\n",
    "    left_index=True,\n",
    "    right_index=True,\n",
    "    suffixes=('','_pred')\n",
    ").merge(\n",
    "    otherDataProcessor.raw_data[['group_index','J0','J1','J2']],\n",
    "    on='group_index',\n",
    "    suffixes=('', '_JA5')\n",
    ").drop_duplicates()"
   ]
  },
  {
   "cell_type": "code",
   "execution_count": null,
   "id": "2",
   "metadata": {},
   "outputs": [],
   "source": [
    "n = -1"
   ]
  },
  {
   "cell_type": "code",
   "execution_count": null,
   "id": "3",
   "metadata": {},
   "outputs": [],
   "source": [
    "n +=1 \n",
    "group_index = int(results_df.iloc[n]['group_index'])\n",
    "group = ja_groups[group_index]\n",
    "\n",
    "ja_model = JouybanAcreeModel()  \n",
    "x_values = np.linspace(0, 1, 101)\n",
    "\n",
    "JA_fit_real = ja_model.predict(\n",
    "    x_values, \n",
    "    results_df['solvent_1_pure'].iloc[n],\n",
    "    results_df['solvent_2_pure'].iloc[n], \n",
    "    results_df['temperature'].iloc[n],\n",
    "    results_df['J0_JA5'].iloc[n],\n",
    "    results_df['J1_JA5'].iloc[n],\n",
    "    results_df['J2_JA5'].iloc[n],\n",
    ")\n",
    "\n",
    "JA_fit_NN = ja_model.predict(\n",
    "    x_values, \n",
    "    results_df['solvent_1_pure'].iloc[n],\n",
    "    results_df['solvent_2_pure'].iloc[n], \n",
    "    results_df['temperature'].iloc[n],\n",
    "    results_df['J0_pred'].iloc[n],\n",
    "    results_df['J1_pred'].iloc[n],\n",
    "    results_df['J2_pred'].iloc[n],\n",
    ")\n",
    "\n",
    "# Plot the JA model\n",
    "plt.figure(figsize=(16*1.3/3, 9*1.3/3))\n",
    "plt.plot(x_values, JA_fit_real, label='Empirical', color='blue')\n",
    "plt.plot(x_values, JA_fit_NN, label='NN', color='red')\n",
    "\n",
    "\n",
    "# Add the experimental data points to the plot\n",
    "plt.scatter(group['solvent_1_weight_fraction'], group['solubility_g_g'], color='gray', label='Experimental Data')\n",
    "plt.xlabel('Solvent 1 Weight Fraction')\n",
    "plt.ylabel('Solubility (g/g)')\n",
    "plt.legend()\n",
    "plt.grid(True)\n",
    "plt.show()"
   ]
  }
 ],
 "metadata": {
  "kernelspec": {
   "display_name": "venv",
   "language": "python",
   "name": "python3"
  },
  "language_info": {
   "codemirror_mode": {
    "name": "ipython",
    "version": 3
   },
   "file_extension": ".py",
   "mimetype": "text/x-python",
   "name": "python",
   "nbconvert_exporter": "python",
   "pygments_lexer": "ipython3",
   "version": "3.11.0"
  }
 },
 "nbformat": 4,
 "nbformat_minor": 5
}
