{
 "cells": [
  {
   "cell_type": "code",
   "execution_count": null,
   "metadata": {},
   "outputs": [],
   "source": [
    "from generator import javh_groups, ja_groups\n",
    "import matplotlib.pyplot as plt\n",
    "import pandas as pd"
   ]
  },
  {
   "cell_type": "code",
   "execution_count": null,
   "metadata": {},
   "outputs": [],
   "source": [
    "row_counts = [len(group) for group in ja_groups]\n",
    "pd.DataFrame(row_counts).describe()"
   ]
  },
  {
   "cell_type": "code",
   "execution_count": null,
   "metadata": {},
   "outputs": [],
   "source": [
    "unique_temperatures_per_group = [len(set(group['temperature'].tolist())) for group in javh_groups]\n",
    "pd.DataFrame(unique_temperatures_per_group).describe()"
   ]
  },
  {
   "cell_type": "code",
   "execution_count": null,
   "metadata": {},
   "outputs": [],
   "source": [
    "import sqlite3\n",
    "import pandas as pd\n",
    "\n",
    "# Connect to the database\n",
    "conn = sqlite3.connect('../../db/MasterDatabase.db')\n",
    "\n",
    "# Query to get unique references from solubility table\n",
    "query = \"SELECT DISTINCT reference FROM solubility\"\n",
    "\n",
    "# Execute query and fetch results\n",
    "unique_references = pd.read_sql_query(query, conn)\n",
    "\n",
    "# Display the unique references\n",
    "print(f\"Number of unique references: {len(unique_references)}\")"
   ]
  },
  {
   "cell_type": "code",
   "execution_count": null,
   "metadata": {},
   "outputs": [],
   "source": [
    "# Query to count rows where solvent_2 is NULL\n",
    "query = \"SELECT COUNT(*) FROM solubility WHERE solvent_2 IS NULL\"\n",
    "\n",
    "# Execute query and fetch results\n",
    "null_solvent2_count = pd.read_sql_query(query, conn)\n",
    "\n",
    "# Display the count\n",
    "print(f\"Number of rows where solvent_2 is NULL: {null_solvent2_count.iloc[0, 0]}\")\n"
   ]
  },
  {
   "cell_type": "code",
   "execution_count": null,
   "metadata": {},
   "outputs": [],
   "source": [
    "# Close connection\n",
    "conn.close()"
   ]
  },
  {
   "cell_type": "code",
   "execution_count": null,
   "metadata": {},
   "outputs": [],
   "source": [
    "pd.concat(javh_groups, axis=0, ignore_index=True)"
   ]
  },
  {
   "cell_type": "code",
   "execution_count": null,
   "metadata": {
    "vscode": {
     "languageId": "javascript"
    }
   },
   "outputs": [],
   "source": [
    "pd.concat(ja_groups, axis=0, ignore_index=True)"
   ]
  }
 ],
 "metadata": {
  "kernelspec": {
   "display_name": "venv",
   "language": "python",
   "name": "python3"
  },
  "language_info": {
   "codemirror_mode": {
    "name": "ipython",
    "version": 3
   },
   "file_extension": ".py",
   "mimetype": "text/x-python",
   "name": "python",
   "nbconvert_exporter": "python",
   "pygments_lexer": "ipython3",
   "version": "3.11.0"
  }
 },
 "nbformat": 4,
 "nbformat_minor": 2
}
