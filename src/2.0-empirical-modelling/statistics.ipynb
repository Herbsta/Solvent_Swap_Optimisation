{
 "cells": [
  {
   "cell_type": "code",
   "execution_count": null,
   "metadata": {},
   "outputs": [],
   "source": [
    "from generator import JAVHModel, JAModel\n",
    "import matplotlib.pyplot as plt\n",
    "import pandas as pd\n",
    "import numpy as np\n",
    "\n",
    "# Set up initial configurations for plots\n",
    "plt.rcParams.update({\n",
    "    'font.size': 12,          # Default font size\n",
    "    'axes.labelsize': 14,     # Axis labels\n",
    "    'axes.titlesize': 16,     # Subplot titles\n",
    "    'xtick.labelsize': 12,    # X-axis tick labels\n",
    "    'ytick.labelsize': 12,    # Y-axis tick labels\n",
    "    'legend.fontsize': 12,    # Legend text\n",
    "    'figure.titlesize': 18    # Figure title\n",
    "})\n",
    "\n"
   ]
  },
  {
   "cell_type": "code",
   "execution_count": null,
   "metadata": {},
   "outputs": [],
   "source": [
    "modelsJAVH = JAVHModel.load_from_csvs('../../output')\n",
    "modelsJA = JAModel.load_from_csvs('../../output')"
   ]
  },
  {
   "cell_type": "code",
   "execution_count": null,
   "metadata": {},
   "outputs": [],
   "source": [
    "modelsJAVH[-1].results_df['mape'].describe()"
   ]
  },
  {
   "cell_type": "code",
   "execution_count": null,
   "metadata": {},
   "outputs": [],
   "source": [
    "from generator import javh_groups"
   ]
  },
  {
   "cell_type": "code",
   "execution_count": null,
   "metadata": {},
   "outputs": [],
   "source": [
    "modelsJAVH[-1].plot_VH(29,solvent_1='Propylene Glycol', solvent_2='Water')\n",
    "modelsJAVH[-1].plot(29,all_experimental_data=False)\n",
    "\n",
    "# Artesunate\n",
    "# propane-1,2-diol\n",
    "# Water\n"
   ]
  },
  {
   "cell_type": "markdown",
   "metadata": {},
   "source": [
    "# Jouyban Acree Model Statistics"
   ]
  },
  {
   "cell_type": "code",
   "execution_count": null,
   "metadata": {},
   "outputs": [],
   "source": [
    "# Create a DataFrame to store all paired t-test results\n",
    "comparison_results = []\n",
    "\n",
    "# Loop through consecutive pairs of models\n",
    "for i in range(len(modelsJA) - 1):\n",
    "    model1 = modelsJA[i]\n",
    "    model2 = modelsJA[i + 1]\n",
    "    \n",
    "    # Perform paired t-test\n",
    "    t_stat, p_value, diff = model2.paired_t_test(model1, verbose=False)\n",
    "    \n",
    "    # Store key information about the comparison\n",
    "    comparison_results.append({\n",
    "        'model1_points': model1.JA_number+ 2,  # Convert x to actual data points\n",
    "        'model2_points': model2.JA_number+ 2,\n",
    "        'mape_improvement': diff.mean(),\n",
    "        't_statistic': abs(t_stat),\n",
    "        'p_value': p_value,\n",
    "        'significant': p_value < 0.025\n",
    "    })\n",
    "\n",
    "# Convert to DataFrame\n",
    "comparison_df = pd.DataFrame(comparison_results)\n",
    "\n",
    "# Plot p-values\n",
    "non_significant = comparison_df[comparison_df['significant'] == False]\n",
    "\n",
    "# Add markers for significant results\n",
    "significant = comparison_df[comparison_df['significant']]\n",
    "\n",
    "\n",
    "# Create a visualization of the absolute improvement\n",
    "plt.figure(figsize=(16*1.3/3, 9*1.3/3))\n",
    "\n",
    "# Plot improvements for non-significant results\n",
    "plt.plot(non_significant['model1_points'], non_significant['mape_improvement'], \n",
    "         'o', color='gray', linewidth=2, markersize=8, \n",
    "         label='p > .025')\n",
    "\n",
    "# Add markers for significant results\n",
    "plt.scatter(significant['model1_points'], significant['mape_improvement'], \n",
    "            s=100, color='red', zorder=5, marker='*', \n",
    "            label='p < .025')\n",
    "\n",
    "plt.axhline(y=0, color='grey',linestyle='--')\n",
    "\n",
    "# Add labels for each point\n",
    "for _, row in comparison_df.iterrows():\n",
    "    y_offset = 10 if row['mape_improvement'] < -0.4 else -20\n",
    "    plt.annotate(f\"→ {row['model2_points']}\", \n",
    "                 (row['model1_points'], row['mape_improvement']), \n",
    "                 textcoords=\"offset points\",\n",
    "                 xytext=(0, y_offset), \n",
    "                 ha='center')\n",
    "\n",
    "print(comparison_df)\n",
    "\n",
    "plt.xlabel('Comparison Data Point')\n",
    "plt.ylabel('Δ MAPE (%)')\n",
    "plt.grid(True, alpha=0.3)\n",
    "plt.legend()\n",
    "plt.tight_layout()\n",
    "plt.show()"
   ]
  },
  {
   "cell_type": "code",
   "execution_count": null,
   "metadata": {},
   "outputs": [],
   "source": [
    "results = pd.DataFrame(columns=['data points', 'p_value', 'f1_score', 'precision', 'recall'])\n",
    "\n",
    "for i in range(len(modelsJA)-1):\n",
    "    print(f'{modelsJA[i]} \\ncompared to \\n{modelsJA[i+1]}')\n",
    "    modelsJA[i].plot(2)\n",
    "    modelsJA[i+1].plot(2)\n",
    "    \n",
    "    _, p_value,diff = modelsJA[i+1].paired_t_test(modelsJA[i])\n",
    "    \n"
   ]
  },
  {
   "cell_type": "markdown",
   "metadata": {},
   "source": [
    "# Statistics for the Van't Hoff Jouyban Acree Model"
   ]
  },
  {
   "cell_type": "code",
   "execution_count": null,
   "metadata": {},
   "outputs": [],
   "source": [
    "num = 7"
   ]
  },
  {
   "cell_type": "code",
   "execution_count": null,
   "metadata": {},
   "outputs": [],
   "source": [
    "# Create a DataFrame to store all paired t-test results\n",
    "comparison_results = []\n",
    "\n",
    "fixed_modelsJAVH = [model for model in modelsJAVH if model.JA_number == num]\n",
    "\n",
    "# Loop through consecutive pairs of models\n",
    "for i in range(len(fixed_modelsJAVH) - 1):\n",
    "    model1 = fixed_modelsJAVH[i]\n",
    "    model2 = fixed_modelsJAVH[i + 1]\n",
    "    \n",
    "    # Perform paired t-test\n",
    "    t_stat, p_value, diff = model2.paired_t_test(model1, verbose=False)\n",
    "    \n",
    "    # Store key information about the comparison\n",
    "    comparison_results.append({\n",
    "        'model1_points': model1.VH_number* 2,  # Convert x to actual data points\n",
    "        'model2_points': model2.VH_number* 2,\n",
    "        'mape_improvement': diff.median(),\n",
    "        't_statistic': abs(t_stat),\n",
    "        'p_value': p_value,\n",
    "        'significant': p_value < 0.025\n",
    "    })\n",
    "\n",
    "# Convert to DataFrame\n",
    "comparison_df = pd.DataFrame(comparison_results)\n",
    "\n",
    "# Plot p-values\n",
    "non_significant = comparison_df[comparison_df['significant'] == False]\n",
    "\n",
    "# Add markers for significant results\n",
    "significant = comparison_df[comparison_df['significant']]\n",
    "\n",
    "\n",
    "# Create a visualization of the absolute improvement\n",
    "plt.figure(figsize=(16*1.3/3, 9*1.3/3))\n",
    "\n",
    "# Plot improvements for non-significant results\n",
    "plt.plot(non_significant['model1_points'], non_significant['mape_improvement'], \n",
    "         'o', color='gray', linewidth=2, markersize=8, \n",
    "         label='p>0.025')\n",
    "\n",
    "# Add markers for significant results\n",
    "plt.scatter(significant['model1_points'], significant['mape_improvement'], \n",
    "            s=100, color='red', zorder=5, marker='*', \n",
    "            label='p<0.025')\n",
    "\n",
    "plt.axhline(y=0, color='grey',linestyle='--')\n",
    "\n",
    "\n",
    "# Add labels for each point\n",
    "for _, row in comparison_df.iterrows():\n",
    "    y_offset = 10 if row['mape_improvement'] < -0.03 else -30\n",
    "    plt.annotate(f\"→ {row['model2_points']}\", \n",
    "                 (row['model1_points'], row['mape_improvement']), \n",
    "                 textcoords=\"offset points\",\n",
    "                 xytext=(0, y_offset), \n",
    "                 ha='center')\n",
    "\n",
    "print(comparison_df)\n",
    "\n",
    "\n",
    "plt.xlabel('Comparison Data Point')\n",
    "plt.ylabel('Δ MAPE (%)')\n",
    "plt.grid(True, alpha=0.3)\n",
    "plt.legend()\n",
    "plt.tight_layout()\n",
    "plt.show()"
   ]
  }
 ],
 "metadata": {
  "kernelspec": {
   "display_name": "venv",
   "language": "python",
   "name": "python3"
  },
  "language_info": {
   "codemirror_mode": {
    "name": "ipython",
    "version": 3
   },
   "file_extension": ".py",
   "mimetype": "text/x-python",
   "name": "python",
   "nbconvert_exporter": "python",
   "pygments_lexer": "ipython3",
   "version": "3.11.0"
  }
 },
 "nbformat": 4,
 "nbformat_minor": 2
}
