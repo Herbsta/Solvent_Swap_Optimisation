{
 "cells": [
  {
   "cell_type": "markdown",
   "id": "ca8b25dc",
   "metadata": {},
   "source": [
    "# Load and clean the dataset"
   ]
  },
  {
   "cell_type": "code",
   "execution_count": null,
   "id": "6d2abe02",
   "metadata": {},
   "outputs": [],
   "source": [
    "import pandas as pd\n",
    "from rdkit import Chem\n",
    "from rdkit.Chem import MACCSkeys, Descriptors,AllChem\n",
    "from rdkit.Chem.MolStandardize import rdMolStandardize\n",
    "from matplotlib.colors import ListedColormap\n",
    "import numpy as np\n",
    "import matplotlib.pyplot as plt\n",
    "import seaborn as sns\n",
    "from sklearn.model_selection import GroupShuffleSplit\n",
    "import rdkit.Chem.Descriptors3D\n",
    "from morfeus import xtb, read_xyz\n",
    "import os"
   ]
  },
  {
   "cell_type": "code",
   "execution_count": null,
   "id": "b375642f",
   "metadata": {},
   "outputs": [],
   "source": [
    "file_path = '20240621_Dataset_Raw_Exp.xlsx'\n",
    "\n",
    "solubility_df = pd.read_excel(file_path, sheet_name='Solubility', engine='openpyxl')\n",
    "solvents_df = pd.read_excel(file_path, sheet_name='Solvents', engine='openpyxl')\n",
    "drugs_df = pd.read_excel(file_path, sheet_name='Drugs', engine='openpyxl')\n"
   ]
  },
  {
   "cell_type": "code",
   "execution_count": null,
   "id": "de43bab0-aa25-44b3-8e57-6e80137a490c",
   "metadata": {},
   "outputs": [],
   "source": [
    "solubility_df.shape"
   ]
  },
  {
   "cell_type": "code",
   "execution_count": null,
   "id": "6f35ac37",
   "metadata": {},
   "outputs": [],
   "source": [
    "lab = solubility_df[solubility_df['DOI'] == 'Lab']\n",
    "lab.shape"
   ]
  },
  {
   "cell_type": "code",
   "execution_count": null,
   "id": "a9dc88f8",
   "metadata": {},
   "outputs": [],
   "source": [
    "literature = solubility_df[solubility_df['DOI'] != 'Lab']\n",
    "literature.shape"
   ]
  },
  {
   "cell_type": "code",
   "execution_count": null,
   "id": "ff9c9313",
   "metadata": {},
   "outputs": [],
   "source": [
    "literature"
   ]
  },
  {
   "cell_type": "code",
   "execution_count": null,
   "id": "953a73a3",
   "metadata": {},
   "outputs": [],
   "source": [
    "def duplicate_removal(df):\n",
    "    \n",
    "    df['Mono solvent'] = 'No'\n",
    "\n",
    "    df.loc[(df['Solvent_1_weight_fraction'] == 1) | (df['Solvent_1_mol_fraction'] == 1), 'Mono solvent'] = df['Solvent_1']\n",
    "    df.loc[(df['Solvent_1_weight_fraction'] == 0) | (df['Solvent_1_mol_fraction'] == 0), 'Mono solvent'] = df['Solvent_2']\n",
    "\n",
    "    df_no_duplicates = df[df['Mono solvent'] != 'No'].drop_duplicates(subset=['Drug', 'Mono solvent', 'Temperature (K)'])\n",
    "\n",
    "    result_df = pd.concat([df[df['Mono solvent'] == 'No'], df_no_duplicates], ignore_index=True)\n",
    "    \n",
    "    result_df = result_df.drop(['Mono solvent'], axis = 1)\n",
    "\n",
    "    return result_df"
   ]
  },
  {
   "cell_type": "code",
   "execution_count": null,
   "id": "869d0554",
   "metadata": {},
   "outputs": [],
   "source": [
    "literature = duplicate_removal(literature)\n",
    "literature.shape"
   ]
  },
  {
   "cell_type": "code",
   "execution_count": null,
   "id": "138b59b1",
   "metadata": {},
   "outputs": [],
   "source": [
    "literature['Solvent_1_Fraction'] = literature['Solvent_1_weight_fraction'].combine_first(literature['Solvent_1_mol_fraction'])\n",
    "literature['Solvent_2_Fraction'] = 1 - literature['Solvent_1_Fraction']"
   ]
  },
  {
   "cell_type": "code",
   "execution_count": null,
   "id": "6eb9e344",
   "metadata": {},
   "outputs": [],
   "source": [
    "literature"
   ]
  },
  {
   "cell_type": "code",
   "execution_count": null,
   "id": "b50f9715",
   "metadata": {},
   "outputs": [],
   "source": [
    "def check_and_swap(group):\n",
    "    correlation_1 = group['Solvent_1_Fraction'].corr(group['Solubility (mol/mol)'])\n",
    "    correlation_2 = group['Solvent_2_Fraction'].corr(group['Solubility (mol/mol)'])\n",
    "\n",
    "    if correlation_1 < correlation_2:\n",
    "\n",
    "        temp_solvent = group['Solvent_1'].copy()\n",
    "        group['Solvent_1'] = group['Solvent_2']\n",
    "        group['Solvent_2'] = temp_solvent\n",
    "\n",
    "\n",
    "        group['Solvent_1_Fraction'] = 1 - group['Solvent_1_Fraction']\n",
    "        \n",
    "\n",
    "        if 'Solvent_1_weight_fraction' in group and group['Solvent_1_weight_fraction'].notna().all():\n",
    "            group['Solvent_1_weight_fraction'] = 1 - group['Solvent_1_weight_fraction']\n",
    "\n",
    "        if 'Solvent_1_mol_fraction' in group and group['Solvent_1_mol_fraction'].notna().all():\n",
    "            group['Solvent_1_mol_fraction'] = 1 - group['Solvent_1_mol_fraction']\n",
    "\n",
    "    return group\n",
    "\n",
    "\n",
    "literature = literature.groupby(['Drug', 'Solvent_1', 'Solvent_2', 'Temperature (K)']).apply(check_and_swap).reset_index(drop=True)\n"
   ]
  },
  {
   "cell_type": "code",
   "execution_count": null,
   "id": "4214a19c",
   "metadata": {},
   "outputs": [],
   "source": [
    "literature"
   ]
  },
  {
   "cell_type": "code",
   "execution_count": null,
   "id": "c6905554",
   "metadata": {},
   "outputs": [],
   "source": [
    "literature = literature.drop(['Solvent_1_Fraction', 'Solvent_2_Fraction'], axis = 1)"
   ]
  },
  {
   "cell_type": "code",
   "execution_count": null,
   "id": "5bca9dfd",
   "metadata": {},
   "outputs": [],
   "source": [
    "literature"
   ]
  },
  {
   "cell_type": "code",
   "execution_count": null,
   "id": "3370505a",
   "metadata": {},
   "outputs": [],
   "source": [
    "duplicates_mask = literature.duplicated(subset=['Drug', 'Solvent_1', 'Solvent_1_weight_fraction', 'Solvent_1_mol_fraction', 'Solvent_2', 'Temperature (K)'], keep=False)\n",
    "\n",
    "df_duplicates = literature[duplicates_mask]\n",
    "\n",
    "df_duplicates = df_duplicates.reset_index(drop=True)\n",
    "\n",
    "df_duplicates_sorted = df_duplicates.sort_values(by=['Drug', 'Solvent_1', 'Solvent_1_weight_fraction', 'Solvent_1_mol_fraction', 'Solvent_2', 'Temperature (K)']).reset_index(drop=True)\n",
    "\n",
    "df_duplicates_sorted.shape[0]\n",
    "\n"
   ]
  },
  {
   "cell_type": "markdown",
   "id": "8b7fdbb7",
   "metadata": {},
   "source": [
    "# Generate features"
   ]
  },
  {
   "cell_type": "markdown",
   "id": "8104db35",
   "metadata": {},
   "source": [
    "## Tautomers, charge state, and diastereomers"
   ]
  },
  {
   "cell_type": "code",
   "execution_count": null,
   "id": "a6de52fa",
   "metadata": {},
   "outputs": [],
   "source": [
    "def find_diastereomers(df,Compound):\n",
    "    possible_diastereomers = []\n",
    "    \n",
    "    for index, row in df.iterrows():\n",
    "        smiles = row['SMILES']\n",
    "        #smiles = row['SMILES']\n",
    "        drug_name = row[Compound]\n",
    "        \n",
    "\n",
    "        mol = Chem.MolFromSmiles(smiles)\n",
    "        \n",
    "        if mol:\n",
    "            chiral_centers = Chem.FindMolChiralCenters(mol, includeUnassigned=True)\n",
    "            \n",
    "\n",
    "            if len(chiral_centers) > 1:\n",
    "                possible_diastereomers.append(drug_name)\n",
    "    \n",
    "    return possible_diastereomers"
   ]
  },
  {
   "cell_type": "code",
   "execution_count": null,
   "id": "3633d939",
   "metadata": {},
   "outputs": [],
   "source": [
    "possible_diastereomers = find_diastereomers(drugs_df, 'Drug')\n",
    "print(\"possible_diastereomers:\")\n",
    "for drug in possible_diastereomers:\n",
    "    print(drug)"
   ]
  },
  {
   "cell_type": "code",
   "execution_count": null,
   "id": "2d991679",
   "metadata": {},
   "outputs": [],
   "source": [
    "possible_diastereomers = find_diastereomers(solvents_df, 'Solvent')\n",
    "print(\"possible_diastereomers:\")\n",
    "for solvent in possible_diastereomers:\n",
    "    print(solvent)"
   ]
  },
  {
   "cell_type": "code",
   "execution_count": null,
   "id": "b0709b42",
   "metadata": {},
   "outputs": [],
   "source": [
    "tautomer_enumerator = rdMolStandardize.TautomerEnumerator()\n",
    "uncharger = rdMolStandardize.Uncharger()\n",
    "\n",
    "def standardize_smiles(smiles):\n",
    "    mol = Chem.MolFromSmiles(smiles)\n",
    "    mol = tautomer_enumerator.Canonicalize(mol)\n",
    "    mol = uncharger.uncharge(mol)\n",
    "    return Chem.MolToSmiles(mol)"
   ]
  },
  {
   "cell_type": "code",
   "execution_count": null,
   "id": "af262764",
   "metadata": {},
   "outputs": [],
   "source": [
    "drugs_df['standardized_SMILES'] = drugs_df['SMILES'].apply(standardize_smiles)"
   ]
  },
  {
   "cell_type": "code",
   "execution_count": null,
   "id": "01f9ed23",
   "metadata": {},
   "outputs": [],
   "source": [
    "solvents_df['standardized_SMILES'] = solvents_df['SMILES'].apply(standardize_smiles)"
   ]
  },
  {
   "cell_type": "markdown",
   "id": "480092a4",
   "metadata": {},
   "source": [
    "## XTB_features"
   ]
  },
  {
   "cell_type": "code",
   "execution_count": null,
   "id": "460a2af3",
   "metadata": {},
   "outputs": [],
   "source": [
    "def calculate_xtb_features(smile, max_tries=500):\n",
    "    print('')\n",
    "    print(smile)\n",
    "    for attempt in range(max_tries):\n",
    "        try:\n",
    "\n",
    "            mol = Chem.MolFromSmiles(smile)\n",
    "            mol_3d = Chem.AddHs(mol)\n",
    "            AllChem.EmbedMolecule(mol_3d)\n",
    "\n",
    "            AllChem.UFFOptimizeMolecule(mol_3d, maxIters=500000)\n",
    "            xyz_file = \"molecule.xyz\"\n",
    "\n",
    "            with open(xyz_file, \"w\") as f:\n",
    "                f.write(Chem.MolToXYZBlock(mol_3d))\n",
    "        \n",
    "            atoms, coordinates = read_xyz(xyz_file)\n",
    "\n",
    "            xtb_instance = xtb.XTB(atoms, coordinates)\n",
    "            \n",
    "            xtb_ea = xtb_instance.get_ea()\n",
    "            xtb_global_descriptor = xtb_instance.get_global_descriptor('electrophilicity')\n",
    "            xtb_homo = xtb_instance.get_homo()\n",
    "            xtb_ip = xtb_instance.get_ip()\n",
    "            xtb_lumo = xtb_instance.get_lumo()\n",
    "            \n",
    "            return [xtb_ea, xtb_global_descriptor, xtb_homo, xtb_ip, xtb_lumo]\n",
    "        \n",
    "        except Exception as e:\n",
    "            if attempt%5==0:\n",
    "                print(f\"Attempt {attempt + 1} failed\")\n",
    "            if attempt == max_tries - 1:\n",
    "                raise Exception(f\"Failed to calculate XTB features after {max_tries} attempts.\")"
   ]
  },
  {
   "cell_type": "code",
   "execution_count": null,
   "id": "3823aab8",
   "metadata": {},
   "outputs": [],
   "source": [
    "xtb_drug_features_list = []\n",
    "\n",
    "for smile in drugs_df['standardized_SMILES']:\n",
    "    xtb_drug_features = calculate_xtb_features(smile)\n",
    "    xtb_drug_features_list.append(xtb_drug_features)\n",
    "    xtb_drug_features_df = pd.DataFrame(xtb_drug_features_list, columns=['xtb_ea', 'xtb_global_descriptor', 'xtb_homo', 'xtb_ip', 'xtb_lumo'])\n",
    "\n",
    "xtb_drug_features_df.to_excel(\"xtb_drug_features.xlsx\")\n"
   ]
  },
  {
   "cell_type": "code",
   "execution_count": null,
   "id": "5e51fb76",
   "metadata": {},
   "outputs": [],
   "source": [
    "xtb_solvent_features_list = []\n",
    "\n",
    "for smile in solvents_df['standardized_SMILES']:\n",
    "    xtb_solvent_features = calculate_xtb_features(smile)\n",
    "    xtb_solvent_features_list.append(xtb_solvent_features)\n",
    "    xtb_solvent_features_df = pd.DataFrame(xtb_solvent_features_list, columns=['xtb_ea', 'xtb_global_descriptor', 'xtb_homo', 'xtb_ip', 'xtb_lumo'])\n",
    "\n",
    "xtb_solvent_features_df.to_excel(\"xtb_solvent_features.xlsx\")\n"
   ]
  },
  {
   "cell_type": "markdown",
   "id": "e9476572",
   "metadata": {},
   "source": [
    "## Other features"
   ]
  },
  {
   "cell_type": "code",
   "execution_count": null,
   "id": "abf750f3",
   "metadata": {},
   "outputs": [],
   "source": [
    "def generate_feats(df, xtb_features):\n",
    "    example = Chem.MolFromSmiles('C')\n",
    "    example = Chem.AddHs(example)\n",
    "    AllChem.EmbedMolecule(example)\n",
    "    threeD_columns = [col for col in rdkit.Chem.Descriptors3D.CalcMolDescriptors3D(example)]\n",
    "    \n",
    "    maccs_list = []\n",
    "    descriptors_list = []\n",
    "    extra_list = []\n",
    "    descriptors3d_list = []\n",
    "\n",
    "    descriptor_names = [desc[0] for desc in Descriptors._descList]\n",
    "    descriptor_functions = [desc[1] for desc in Descriptors._descList]\n",
    "\n",
    "    for smile in df['standardized_SMILES']:\n",
    "\n",
    "        mol = Chem.MolFromSmiles(smile)\n",
    "        \n",
    "        mol_3d = Chem.AddHs(mol)\n",
    "        AllChem.EmbedMolecule(mol_3d)\n",
    "        \n",
    "        fingerprint = MACCSkeys.GenMACCSKeys(mol)\n",
    "        maccs_list.append(list(fingerprint)[1:])\n",
    "        \n",
    "        descriptor_values = [func(mol) for func in descriptor_functions]\n",
    "        descriptors_list.append(descriptor_values)\n",
    "        \n",
    "        volume = AllChem.ComputeMolVolume(mol_3d)\n",
    "        AllChem.ComputeGasteigerCharges(mol_3d)\n",
    "        dipole = sum(float(mol_3d.GetAtomWithIdx(i).GetProp('_GasteigerCharge')) * mol_3d.GetConformer().GetAtomPosition(i).x for i in range(mol_3d.GetNumAtoms()))\n",
    "        extra_desc = [volume, dipole]\n",
    "        extra_list.append(extra_desc)\n",
    "\n",
    "        descriptors3d_values = rdkit.Chem.Descriptors3D.CalcMolDescriptors3D(mol_3d)\n",
    "        descriptors3d_list.append(descriptors3d_values)\n",
    "\n",
    "\n",
    "    maccs_df = pd.DataFrame(maccs_list, columns=[f'Maccs_{i}' for i in range(1, 167)])\n",
    "    descriptors_df = pd.DataFrame(descriptors_list, columns=[name for name in descriptor_names])\n",
    "    extra_desc_df = pd.DataFrame(extra_list, columns=['Volume', 'Dipole Moment'])\n",
    "\n",
    "    descriptors3d_df = pd.DataFrame(descriptors3d_list, columns=threeD_columns)\n",
    "\n",
    "\n",
    "    combined_df = pd.concat([df, maccs_df, descriptors_df], axis=1)\n",
    "\n",
    "    return combined_df\n"
   ]
  },
  {
   "cell_type": "code",
   "execution_count": null,
   "id": "e47827cf-1544-4f45-8525-36c9d0c98259",
   "metadata": {},
   "outputs": [],
   "source": [
    "xtb_drug_features_df = pd.read_excel(\"xtb_drug_features.xlsx\")\n",
    "\n",
    "drug_feats = generate_feats(drugs_df, xtb_drug_features_df)\n"
   ]
  },
  {
   "cell_type": "code",
   "execution_count": null,
   "id": "5ba6c9da",
   "metadata": {},
   "outputs": [],
   "source": [
    "xtb_solvent_features_df = pd.read_excel(\"xtb_solvent_features.xlsx\")\n",
    "solvent_feats = generate_feats(solvents_df, xtb_solvent_features_df)\n",
    "solvent_feats"
   ]
  },
  {
   "cell_type": "markdown",
   "id": "f9132fb4",
   "metadata": {},
   "source": [
    "## Add features to the dataset"
   ]
  },
  {
   "cell_type": "code",
   "execution_count": null,
   "id": "a4a0e8cc",
   "metadata": {},
   "outputs": [],
   "source": [
    "def enhance_solubility_data(solubility_df, drugs_df, solvents_df, drug_features, solvent_features):\n",
    "\n",
    "    drug_col_rename_map = {feature: f\"Drug_{feature}\" for feature in drug_features}\n",
    "    selected_drug_features = drugs_df[drug_features + ['Drug']]\n",
    "    renamed_drug_features = selected_drug_features.rename(columns=drug_col_rename_map)\n",
    "    enhanced_df = solubility_df.merge(renamed_drug_features, on='Drug', how='left')\n",
    "\n",
    "    solvent_1_col_rename_map = {feature: f\"Solvent_1_{feature}\" for feature in solvent_features}\n",
    "    solvent_1_col_rename_map['Solvent'] = 'Solvent_1'\n",
    "    selected_solvent_1_features = solvents_df[solvent_features + ['Solvent']].rename(columns=solvent_1_col_rename_map)\n",
    "    enhanced_df = enhanced_df.merge(selected_solvent_1_features, left_on='Solvent_1', right_on='Solvent_1', how='left')\n",
    "\n",
    "    solvent_2_col_rename_map = {feature: f\"Solvent_2_{feature}\" for feature in solvent_features}\n",
    "    solvent_2_col_rename_map['Solvent'] = 'Solvent_2'\n",
    "    selected_solvent_2_features = solvents_df[solvent_features + ['Solvent']].rename(columns=solvent_2_col_rename_map)\n",
    "    enhanced_df = enhanced_df.merge(selected_solvent_2_features, left_on='Solvent_2', right_on='Solvent_2', how='left')\n",
    "\n",
    "    return enhanced_df\n"
   ]
  },
  {
   "cell_type": "code",
   "execution_count": null,
   "id": "33a7b708",
   "metadata": {},
   "outputs": [],
   "source": [
    "maccs_feats = [f'Maccs_{i}' for i in range(1, 167)]\n",
    "rdkit_feats = [desc[0] for desc in Descriptors._descList]\n",
    "xtb_feats = ['xtb_ea', 'xtb_global_descriptor', 'xtb_homo', 'xtb_ip', 'xtb_lumo']\n",
    "extra_feats = ['Volume', 'Dipole Moment']\n",
    "\n",
    "example = Chem.MolFromSmiles('C')\n",
    "example = Chem.AddHs(example)\n",
    "AllChem.EmbedMolecule(example)\n",
    "threeD_feats = [col for col in rdkit.Chem.Descriptors3D.CalcMolDescriptors3D(example)]\n",
    "\n",
    "\n",
    "\n",
    "\n",
    "calculated_feats = maccs_feats + rdkit_feats\n",
    "\n",
    "\n",
    "drug_feats_to_extract = ['Collected_Melting_temp (K)', 'Predicted_Melting_temp (K)', 'Drugs@FDA', 'SMILES'] + calculated_feats \n",
    "solvent_feats_to_extract = ['Collected_Melting_temp (K)']  + calculated_feats "
   ]
  },
  {
   "cell_type": "code",
   "execution_count": null,
   "id": "98386f4a-6886-4c6a-bf88-858143869e95",
   "metadata": {},
   "outputs": [],
   "source": [
    "enhanced_literature = enhance_solubility_data(literature, drug_feats, solvent_feats, drug_feats_to_extract, solvent_feats_to_extract)\n",
    "enhanced_literature.shape\n",
    "\n"
   ]
  },
  {
   "cell_type": "code",
   "execution_count": null,
   "id": "05aeed4f",
   "metadata": {},
   "outputs": [],
   "source": [
    "enhanced_lab = enhance_solubility_data(lab, drug_feats, solvent_feats, drug_feats_to_extract, solvent_feats_to_extract)\n",
    "enhanced_lab.shape\n",
    "\n"
   ]
  },
  {
   "cell_type": "markdown",
   "id": "c8f93cde",
   "metadata": {},
   "source": [
    "# Unit conversion"
   ]
  },
  {
   "cell_type": "code",
   "execution_count": null,
   "id": "60c80cd2-1524-4a53-82cc-c83a73540390",
   "metadata": {},
   "outputs": [],
   "source": [
    "def calculate_fractions(df):\n",
    "    for index, row in df.iterrows():\n",
    "\n",
    "        molecular_weight_1 = row['Solvent_1_ExactMolWt']\n",
    "        molecular_weight_2 = row['Solvent_2_ExactMolWt']\n",
    "\n",
    "        if pd.isna(row['Solvent_1_mol_fraction']) and not pd.isna(row['Solvent_1_weight_fraction']):\n",
    "            weight_fraction_1 = float(row['Solvent_1_weight_fraction'])\n",
    "            weight_fraction_2 = 1 - weight_fraction_1\n",
    "            mole_fraction_1 = (weight_fraction_1 / molecular_weight_1) / ((weight_fraction_1 / molecular_weight_1) + (weight_fraction_2 / molecular_weight_2))\n",
    "            df.at[index, 'Solvent_1_mol_fraction'] = mole_fraction_1\n",
    "\n",
    "        elif not pd.isna(row['Solvent_1_mol_fraction']) and pd.isna(row['Solvent_1_weight_fraction']):\n",
    "            mole_fraction_1 = float(row['Solvent_1_mol_fraction'])\n",
    "            mole_fraction_2 = 1 - mole_fraction_1\n",
    "            weight_fraction_1 = (mole_fraction_1 * molecular_weight_1) / ((mole_fraction_1 * molecular_weight_1) + (mole_fraction_2 * molecular_weight_2))\n",
    "            df.at[index, 'Solvent_1_weight_fraction'] = weight_fraction_1\n",
    "            \n",
    "    return df\n",
    "\n",
    "\n",
    "enhanced_literature = calculate_fractions(enhanced_literature)\n",
    "enhanced_lab = calculate_fractions(enhanced_lab)\n",
    "\n"
   ]
  },
  {
   "cell_type": "code",
   "execution_count": null,
   "id": "be56e9a5",
   "metadata": {},
   "outputs": [],
   "source": [
    "def calculate_logs(df_updated):\n",
    "    \n",
    "    total_moles = 1\n",
    "\n",
    "    df_updated['mol0'] = total_moles * df_updated['Solubility (mol/mol)']\n",
    "    df_updated['mol1'] = (total_moles - df_updated['mol0']) * df_updated['Solvent_1_mol_fraction']\n",
    "    df_updated['mol2'] = (total_moles - df_updated['mol0']) * (1 - df_updated['Solvent_1_mol_fraction'])\n",
    "    df_updated['total_mol'] = df_updated['mol0'] + df_updated['mol1'] + df_updated['mol2']\n",
    "    print(df_updated[['total_mol']].describe())\n",
    "\n",
    "    df_updated['mass0'] = df_updated['mol0'] * df_updated['Drug_ExactMolWt']\n",
    "    df_updated['mass1'] = df_updated['mol1'] * df_updated['Solvent_1_ExactMolWt']\n",
    "    df_updated['mass2'] = df_updated['mol2'] * df_updated['Solvent_2_ExactMolWt']\n",
    "    df_updated['total_mass'] = df_updated['mass0'] + df_updated['mass1'] + df_updated['mass2']\n",
    "\n",
    "    df_updated['Solubility (g/g)'] = df_updated['mass0'] / df_updated['total_mass']\n",
    "    df_updated['Solubility (g/100g)'] = df_updated['Solubility (g/g)'] * 100\n",
    "    df_updated['LogS'] = np.log10(df_updated['Solubility (g/100g)'])\n",
    "\n",
    "    df_updated = df_updated.drop(['mol0', 'mol1', 'mol2', 'mass0','mass1','mass2','total_mass','total_mol','Solubility (g/g)'], axis = 1)\n",
    "    \n",
    "    return df_updated"
   ]
  },
  {
   "cell_type": "code",
   "execution_count": null,
   "id": "3292defa",
   "metadata": {},
   "outputs": [],
   "source": [
    "updated_literature = calculate_logs(enhanced_literature)\n"
   ]
  },
  {
   "cell_type": "code",
   "execution_count": null,
   "id": "ff77b37f",
   "metadata": {},
   "outputs": [],
   "source": [
    "updated_lab = calculate_logs(enhanced_lab)\n"
   ]
  },
  {
   "cell_type": "code",
   "execution_count": null,
   "id": "580fbc9b",
   "metadata": {},
   "outputs": [],
   "source": [
    "columns_with_missing_values = updated_lab.columns[updated_lab.isna().any()] + updated_lab.columns[updated_lab.isna().any()]\n",
    "len(columns_with_missing_values)\n"
   ]
  },
  {
   "cell_type": "markdown",
   "id": "3758bab3",
   "metadata": {},
   "source": [
    "# Train/test split"
   ]
  },
  {
   "cell_type": "code",
   "execution_count": null,
   "id": "6a862787",
   "metadata": {},
   "outputs": [],
   "source": [
    "quantiles = updated_literature['LogS'].quantile([0.00, 0.25, 0.50, 0.75, 1.00])\n",
    "\n",
    "def determine_class(x):\n",
    "    if x <= quantiles[0.25]:\n",
    "        return f\"[{round(quantiles[0.00],2)}, {round(quantiles[0.25],2)}]\"\n",
    "    elif x <= quantiles[0.5]:\n",
    "        return f\"({round(quantiles[0.25],2)}, {round(quantiles[0.5],2)}]\"\n",
    "    elif x <= quantiles[0.75]:\n",
    "        return f\"({round(quantiles[0.5],2)}, {round(quantiles[0.75],2)}]\"\n",
    "    else:\n",
    "        return f\"({round(quantiles[0.75],2)}, {round(quantiles[1.0],2)}]\"\n",
    "\n",
    "\n",
    "updated_literature['Class'] = updated_literature['LogS'].apply(determine_class)\n",
    "\n",
    "updated_lab['Class'] = None\n",
    "\n",
    "print(round(quantiles[0.00],2),round(quantiles[0.25],2),round(quantiles[0.5],2),round(quantiles[0.75],2), round(quantiles[1.00],2),)"
   ]
  },
  {
   "cell_type": "code",
   "execution_count": null,
   "id": "96138923",
   "metadata": {},
   "outputs": [],
   "source": [
    "def drug_solvent_system(row):\n",
    "\n",
    "    sorted_solvents = sorted([row['Solvent_1'], row['Solvent_2']])\n",
    "\n",
    "    return f\"{row['Drug']}-{sorted_solvents[0]}/{sorted_solvents[1]}\"\n",
    "\n",
    "updated_literature['Drug-solvent system'] = updated_literature.apply(drug_solvent_system, axis=1)\n",
    "updated_lab['Drug-solvent system'] = updated_lab.apply(drug_solvent_system, axis=1)"
   ]
  },
  {
   "cell_type": "code",
   "execution_count": null,
   "id": "67f3d73e",
   "metadata": {},
   "outputs": [],
   "source": [
    "def solvent_system(row):\n",
    "\n",
    "    sorted_solvents = sorted([row['Solvent_1'], row['Solvent_2']])\n",
    "\n",
    "    return f\"{sorted_solvents[0]}/{sorted_solvents[1]}\"\n",
    "\n",
    "updated_literature['Solvent system'] = updated_literature.apply(solvent_system, axis=1)\n",
    "updated_lab['Solvent system'] = updated_lab.apply(solvent_system, axis=1)"
   ]
  },
  {
   "cell_type": "code",
   "execution_count": null,
   "id": "40ef6dc4-1b8c-4f4d-bdcc-be6f8126c945",
   "metadata": {},
   "outputs": [],
   "source": [
    "updated_literature.reset_index(drop=True, inplace=True)\n",
    "\n",
    "gss = GroupShuffleSplit(n_splits=1, test_size=0.25, random_state=19680611)\n",
    "\n",
    "\n",
    "for train_idx, test_idx in gss.split(updated_literature, groups=updated_literature['Drug-solvent system']):\n",
    "    updated_literature.loc[train_idx, 'Type'] = 'Train'\n",
    "    updated_literature.loc[test_idx, 'Type'] = 'Test'\n",
    "\n",
    "    \n",
    "train_subset = updated_literature[updated_literature['Type'] == 'Train']\n",
    "test_subset = updated_literature[updated_literature['Type'] == 'Test']\n",
    "updated_lab['Type'] = 'Lab'"
   ]
  },
  {
   "cell_type": "code",
   "execution_count": null,
   "id": "707e2925",
   "metadata": {},
   "outputs": [],
   "source": [
    "train_subset.shape"
   ]
  },
  {
   "cell_type": "code",
   "execution_count": null,
   "id": "c5277077",
   "metadata": {},
   "outputs": [],
   "source": [
    "test_subset.shape"
   ]
  },
  {
   "cell_type": "code",
   "execution_count": null,
   "id": "01bb9a59",
   "metadata": {},
   "outputs": [],
   "source": [
    "updated_lab.shape"
   ]
  },
  {
   "cell_type": "code",
   "execution_count": null,
   "id": "dd51a1bb",
   "metadata": {},
   "outputs": [],
   "source": [
    "overlapping_groups = set(train_subset['Drug-solvent system']).intersection(set(test_subset['Drug-solvent system']))\n",
    "len(overlapping_groups)"
   ]
  },
  {
   "cell_type": "code",
   "execution_count": null,
   "id": "0d3741b3",
   "metadata": {},
   "outputs": [],
   "source": [
    "def analyze_solute_data(df):\n",
    "    \n",
    "    unique_solute = df['Drug'].nunique()\n",
    "    \n",
    "    \n",
    "    unique_solvents = pd.concat([df['Solvent_1'], df['Solvent_2']]).nunique()\n",
    "\n",
    "    \n",
    "    \n",
    "    unique_solvent_systems = df['Solvent system'].nunique()\n",
    "    \n",
    "    \n",
    "    \n",
    "    unique_drug_solvent_systems = df['Drug-solvent system'].nunique()\n",
    "\n",
    "    unique_DOIs = df['DOI'].nunique()\n",
    "\n",
    "    \n",
    "    print(f\"Number of unique solute: {unique_solute}\")\n",
    "    print(f\"Number of unique solvents: {unique_solvents}\")\n",
    "    print(f\"Number of unique solvent systems: {unique_solvent_systems}\")\n",
    "    print(f\"Number of unique drug-solvent systems: {unique_drug_solvent_systems}\")\n",
    "    print(f\"Number of paper: {unique_DOIs}\")\n",
    "    print(f\"Number of data entries: {df.shape[0]}\")\n",
    "\n"
   ]
  },
  {
   "cell_type": "code",
   "execution_count": null,
   "id": "28970405",
   "metadata": {},
   "outputs": [],
   "source": [
    "analyze_solute_data(updated_literature)"
   ]
  },
  {
   "cell_type": "code",
   "execution_count": null,
   "id": "c43c7198",
   "metadata": {},
   "outputs": [],
   "source": [
    "analyze_solute_data(train_subset)"
   ]
  },
  {
   "cell_type": "code",
   "execution_count": null,
   "id": "2de86742",
   "metadata": {},
   "outputs": [],
   "source": [
    "analyze_solute_data(test_subset)"
   ]
  },
  {
   "cell_type": "code",
   "execution_count": null,
   "id": "ac9cac87",
   "metadata": {},
   "outputs": [],
   "source": [
    "analyze_solute_data(updated_lab)"
   ]
  },
  {
   "cell_type": "markdown",
   "id": "9dc9b7e0",
   "metadata": {},
   "source": [
    "# Plot"
   ]
  },
  {
   "cell_type": "code",
   "execution_count": null,
   "id": "701ee44a",
   "metadata": {},
   "outputs": [],
   "source": [
    "def plot_stacked_bar_chart(ann, ax, df_no_outliers, fontsize = 10):\n",
    "    \n",
    "    df = df_no_outliers.copy()\n",
    "\n",
    "    \n",
    "    solubility_order = ['[-5.48, -0.43]', '(-0.43, 0.36]', '(0.36, 1.0]', '(1.0, 1.99]']\n",
    "      \n",
    "\n",
    "    \n",
    "    quantile_edges = df['Temperature (K)'].quantile([0, 0.25, 0.5, 0.75, 1]).values\n",
    "    quantile_labels = [f\"{quantile_edges[i]:.2f}K to {quantile_edges[i+1]:.2f}K\" for i in range(len(quantile_edges)-1)]\n",
    "\n",
    "    \n",
    "    df['Temp Quantile Bin'] = pd.cut(df['Temperature (K)'], bins=quantile_edges, labels=quantile_labels, include_lowest=True)\n",
    "\n",
    "    \n",
    "    grouped_by_solubility_and_quantile = df.groupby(['Class', 'Temp Quantile Bin']).size().unstack()\n",
    "    grouped_quantile_ordered = grouped_by_solubility_and_quantile.reindex(solubility_order)\n",
    "\n",
    "    \n",
    "    lightest = \"#D3D4D9\"\n",
    "    light = \"#A8A9B2\"\n",
    "    medium = \"#515265\"\n",
    "    dark = \"#3D3E4C\"\n",
    "    \n",
    "    lightest = \"gainsboro\"\n",
    "    light = \"darkgrey\"\n",
    "    medium = \"gray\"\n",
    "    dark = \"#3D3E4C\"\n",
    "\n",
    "    \n",
    "    new_colors = [lightest, light, medium, dark]\n",
    "    new_cmap = ListedColormap(new_colors)\n",
    "\n",
    "   \n",
    "    grouped_quantile_ordered.plot(kind='bar', stacked=True, colormap=new_cmap, ax=ax)\n",
    "\n",
    "    \n",
    "    column_totals = grouped_quantile_ordered.sum(axis=1)\n",
    "\n",
    "   \n",
    "    for i, bar in enumerate(ax.patches):\n",
    "        bar_height = bar.get_height()\n",
    "        bar_base = bar.get_y()\n",
    "        class_index = i // len(quantile_labels)\n",
    "        percentage = (bar_height / column_totals.iloc[class_index]) * 100\n",
    "\n",
    "        font_color = 'white' if bar_base + bar_height > column_totals.iloc[class_index] * 0.7 else 'black'\n",
    "\n",
    "        if percentage > 0:\n",
    "            ax.annotate(f'{percentage:.1f}%', \n",
    "                        (bar.get_x() + bar.get_width() / 2, bar_base + bar_height / 2),\n",
    "                        ha='center', va='center', xytext=(0, 5), textcoords='offset points',\n",
    "                        color=font_color, fontsize = fontsize)\n",
    "\n",
    "\n",
    "    ax.set_xlabel('Log S (g/100g)', fontsize = fontsize)\n",
    "    ax.set_ylabel('Number of data points', fontsize = fontsize)\n",
    "    ax.tick_params(axis='both', which='major', labelsize=fontsize, color='black', length=5)\n",
    "\n",
    "    handles, labels = ax.get_legend_handles_labels()\n",
    "    number_of_columns = len(quantile_labels) // 2 + (len(quantile_labels) % 2 > 0)  \n",
    "    legend = ax.legend(handles, quantile_labels, title='Temperature', \n",
    "                       bbox_to_anchor=(0.5, 1.12), loc='upper center', ncol=number_of_columns, \n",
    "                       frameon=False, fontsize=fontsize)\n",
    "    plt.setp(legend.get_title(), fontsize=fontsize)  \n",
    "    \n",
    "    ax.set_facecolor('none')\n",
    "    \n",
    "    for spine in ['top', 'right', 'bottom', 'left']:\n",
    "        ax.spines[spine].set_color('black')\n",
    "        ax.spines[spine].set_linewidth(0.5)\n",
    "\n",
    "    plt.tight_layout(rect=[0, 0, 1, 0.95])\n",
    "    ax.set_xticklabels(ax.get_xticklabels(), rotation=0)\n",
    "    ax.annotate(ann, xy=(0.0, 1.04), xycoords=\"axes fraction\", va=\"top\", ha=\"left\", fontsize = fontsize)\n"
   ]
  },
  {
   "cell_type": "code",
   "execution_count": null,
   "id": "d060dc88",
   "metadata": {},
   "outputs": [],
   "source": [
    "black = '#515265'\n",
    "red = '#DD706E'\n",
    "yellow = '#FAAF3A'\n",
    "blue = '#3A93C2'\n",
    "\n",
    "def plot_boxplot(ann, ax, df, cols, feature_name=None, fontsize=14):\n",
    "\n",
    "    custom_palette = {\"Train\": blue, \"Test\": red}\n",
    "\n",
    "\n",
    "    if len(cols) == 2:\n",
    "        melted_df = pd.melt(df, id_vars='Type', value_vars=cols, var_name='Variable', value_name='Value')\n",
    "        sns.boxplot(x='Type', y='Value', data=melted_df, palette=custom_palette, ax=ax)\n",
    "        col_to_plot = 'Value'\n",
    "    elif len(cols) == 1:\n",
    "        sns.boxplot(x='Type', y=cols[0], data=df, palette=custom_palette, ax=ax)\n",
    "        col_to_plot = cols[0]\n",
    "    else:\n",
    "        raise ValueError(\"Please provide one or two column names.\")\n",
    "    \n",
    "    title = feature_name if feature_name else col_to_plot\n",
    "    ax.set_ylabel(title, fontsize=fontsize)\n",
    "    ax.set_xlabel('')\n",
    "    \n",
    "\n",
    "    for spine in ['top', 'right', 'bottom', 'left']:\n",
    "        ax.spines[spine].set_color('black')\n",
    "        ax.spines[spine].set_linewidth(0.5)\n",
    "\n",
    "\n",
    "    ax.set_facecolor('none')  \n",
    "    ax.tick_params(axis='y', which='both', length=5, color='black')  \n",
    "    ax.grid(False)\n",
    "\n",
    "    ax.annotate(ann, xy=(0, 1.08), xycoords=\"axes fraction\", va=\"top\", ha=\"left\", fontsize=fontsize)\n",
    "\n",
    "\n",
    "    ax.xaxis.label.set_size(fontsize)\n",
    "    ax.yaxis.label.set_size(fontsize)\n",
    "    \n",
    "\n",
    "    ax.tick_params(axis='both', which='major', labelsize=fontsize)\n",
    "\n",
    "    ax.tick_params(axis='y', which='both', labelsize=fontsize)\n"
   ]
  },
  {
   "cell_type": "code",
   "execution_count": null,
   "id": "9c726e54",
   "metadata": {},
   "outputs": [],
   "source": [
    "black = '#515265'\n",
    "red = '#DD706E'\n",
    "yellow = '#FAAF3A'\n",
    "blue = '#3A93C2'\n",
    "\n",
    "def plot_violin(ann, ax, dataset, cols, feature_name=None, fontsize=14):\n",
    "    \n",
    "    df = dataset.copy()\n",
    "    custom_palette = {\"Train\": blue, \"Test\": red}\n",
    "    if len(cols) == 2:\n",
    "        data_to_plot = df[cols].values.flatten()\n",
    "    elif len(cols) == 1:\n",
    "        data_to_plot = df[cols[0]].values\n",
    "    else:\n",
    "        raise ValueError(\"Please provide one or two column names.\")\n",
    "    \n",
    "\n",
    "    df['Type'] = pd.Categorical(df['Type'], categories=[\"Train\", \"Test\"], ordered=True)\n",
    "\n",
    "    stats = df.groupby('Type')[cols[0]].quantile([0.25, 0.5, 0.75]).unstack()\n",
    "    stats.columns = ['Q1', 'Q2', 'Q3']\n",
    "    print()\n",
    "    print(cols)\n",
    "    print(stats)\n",
    "    print()\n",
    "\n",
    "    # Create a split violin plot\n",
    "    sns.violinplot(x='Type', y=cols[0], data=df, palette=custom_palette, ax=ax, split=True, inner=\"quartile\", cut=0)\n",
    "    \n",
    "    title = feature_name if feature_name else cols[0]\n",
    "    ax.set_ylabel(feature_name, fontsize=fontsize)\n",
    "    ax.set_xlabel('', fontsize=fontsize)\n",
    "    \n",
    "    for spine in ['top', 'right', 'bottom', 'left']:\n",
    "        ax.spines[spine].set_color('black')\n",
    "        ax.spines[spine].set_linewidth(0.5)\n",
    "    \n",
    "    ax.set_facecolor('none')\n",
    "    ax.tick_params(axis='y', which='both', length=5, color='black')\n",
    "    ax.grid(False)\n",
    "    \n",
    "    ax.annotate(ann, xy=(0, 1.08), xycoords=\"axes fraction\", va=\"top\", ha=\"left\", fontsize=fontsize)\n",
    "    \n",
    "    ax.xaxis.label.set_size(fontsize)\n",
    "    ax.yaxis.label.set_size(fontsize)\n",
    "    \n",
    "    ax.tick_params(axis='both', which='major', labelsize=fontsize)\n",
    "    ax.tick_params(axis='y', which='both', labelsize=fontsize)"
   ]
  },
  {
   "cell_type": "code",
   "execution_count": null,
   "id": "0aee8889",
   "metadata": {},
   "outputs": [],
   "source": [
    "fig = plt.figure(figsize=(18, 12))\n",
    "\n",
    "grid = plt.GridSpec(2, 4, wspace=0.4, hspace=0.2)\n",
    "\n",
    "\n",
    "ax1 = fig.add_subplot(grid[0:2, 0:2])\n",
    "plot_stacked_bar_chart('a)',ax1, updated_literature, fontsize = 14)\n",
    "\n",
    "\n",
    "ax2 = fig.add_subplot(grid[0, 2])\n",
    "plot_violin('b)',ax2, updated_literature, ['Temperature (K)'], 'Temperature (K)')\n",
    "\n",
    "\n",
    "ax3 = fig.add_subplot(grid[0, 3])\n",
    "plot_violin('c)',ax3, updated_literature, ['Drug_ExactMolWt'], 'Solute_MW (Da)')\n",
    "\n",
    "\n",
    "ax4 = fig.add_subplot(grid[1, 2])\n",
    "plot_violin('d)',ax4, updated_literature, ['Solvent_1_Collected_Melting_temp (K)','Solvent_2_Collected_Melting_temp (K)'], 'Solvent_MP (K)')\n",
    "\n",
    "\n",
    "ax5 = fig.add_subplot(grid[1, 3])\n",
    "plot_violin('e)',ax5, updated_literature, ['LogS'], 'LogS (g/100g)')\n",
    "\n",
    "\n",
    "fig.patch.set(facecolor='none')\n",
    "\n",
    "\n",
    "fig.canvas.print_figure('Figure_2_Dataset_overview.png', dpi=600)\n",
    "\n",
    "\n",
    "plt.show()\n"
   ]
  },
  {
   "cell_type": "code",
   "execution_count": null,
   "id": "52f155e2",
   "metadata": {},
   "outputs": [],
   "source": [
    "updated_literature = updated_literature.rename(columns={\n",
    "    'Solvent_1_mol_fraction': 'Solvent_mol_fraction',\n",
    "    'Solvent_1_weight_fraction': 'Solvent_mass_fraction'\n",
    "})"
   ]
  },
  {
   "cell_type": "code",
   "execution_count": null,
   "id": "54acc1f2",
   "metadata": {},
   "outputs": [],
   "source": [
    "updated_lab = updated_lab.rename(columns={\n",
    "    'Solvent_1_mol_fraction': 'Solvent_mol_fraction',\n",
    "    'Solvent_1_weight_fraction': 'Solvent_mass_fraction'\n",
    "})"
   ]
  },
  {
   "cell_type": "code",
   "execution_count": null,
   "id": "cde33198",
   "metadata": {},
   "outputs": [],
   "source": [
    "all_feat_df = pd.concat([updated_literature, updated_lab], ignore_index=True)\n",
    "all_feat_df.shape\n"
   ]
  },
  {
   "cell_type": "code",
   "execution_count": null,
   "id": "e7035e3a",
   "metadata": {},
   "outputs": [],
   "source": [
    "all_feat_df"
   ]
  },
  {
   "cell_type": "code",
   "execution_count": null,
   "id": "ca85eda7",
   "metadata": {},
   "outputs": [],
   "source": [
    "all_feat_df[['Drug_ExactMolWt', 'Drug_MolLogP']].describe()"
   ]
  },
  {
   "cell_type": "code",
   "execution_count": null,
   "id": "d72f2948",
   "metadata": {},
   "outputs": [],
   "source": [
    "all_feat_df = all_feat_df.drop(['Web of Science Index','Solubility (mol/mol)', 'DOI', 'Solvent system','Drug_Drugs@FDA'], axis = 1)\n",
    "\n"
   ]
  },
  {
   "cell_type": "code",
   "execution_count": null,
   "id": "74971fdf",
   "metadata": {},
   "outputs": [],
   "source": [
    "all_feat_df.to_csv('Raw_dataset_dataset_20240705.csv', index=False)"
   ]
  },
  {
   "cell_type": "code",
   "execution_count": null,
   "id": "563fe603",
   "metadata": {},
   "outputs": [],
   "source": [
    "all_feat_df['Type']"
   ]
  },
  {
   "cell_type": "code",
   "execution_count": null,
   "id": "eb88d9d1",
   "metadata": {},
   "outputs": [],
   "source": []
  },
  {
   "cell_type": "code",
   "execution_count": null,
   "id": "383242fe",
   "metadata": {},
   "outputs": [],
   "source": []
  },
  {
   "cell_type": "code",
   "execution_count": null,
   "id": "f3609c7f",
   "metadata": {},
   "outputs": [],
   "source": []
  },
  {
   "cell_type": "code",
   "execution_count": null,
   "id": "1196c9cc",
   "metadata": {},
   "outputs": [],
   "source": []
  }
 ],
 "metadata": {
  "kernelspec": {
   "display_name": "Python 3 (ipykernel)",
   "language": "python",
   "name": "python3"
  },
  "language_info": {
   "codemirror_mode": {
    "name": "ipython",
    "version": 3
   },
   "file_extension": ".py",
   "mimetype": "text/x-python",
   "name": "python",
   "nbconvert_exporter": "python",
   "pygments_lexer": "ipython3",
   "version": "3.8.19"
  }
 },
 "nbformat": 4,
 "nbformat_minor": 5
}
