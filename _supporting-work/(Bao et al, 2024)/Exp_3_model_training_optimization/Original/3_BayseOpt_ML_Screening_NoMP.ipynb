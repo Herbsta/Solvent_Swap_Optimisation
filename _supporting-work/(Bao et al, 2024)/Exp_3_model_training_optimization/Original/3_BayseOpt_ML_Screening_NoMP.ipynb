{
 "cells": [
  {
   "cell_type": "code",
   "execution_count": null,
   "id": "315d707c",
   "metadata": {},
   "outputs": [],
   "source": [
    "from sklearn.model_selection import cross_val_score, GroupKFold, cross_val_predict\n",
    "from sklearn.metrics import mean_absolute_error, mean_squared_error, r2_score, median_absolute_error\n",
    "from scipy.stats import pearsonr, spearmanr\n",
    "import seaborn as sns\n",
    "import pandas as pd\n",
    "import numpy as np\n",
    "from sklearn.tree import DecisionTreeRegressor\n",
    "from sklearn.ensemble import RandomForestRegressor, ExtraTreesRegressor\n",
    "from sklearn.neighbors import KNeighborsRegressor\n",
    "from sklearn.cross_decomposition import PLSRegression\n",
    "from xgboost import XGBRegressor\n",
    "from sklearn.svm import SVR\n",
    "from sklearn.neural_network import MLPRegressor\n",
    "from sklearn.linear_model import LinearRegression, Lasso\n",
    "import lightgbm as lgb\n",
    "from skopt.space import Real, Integer, Categorical\n",
    "from skopt import BayesSearchCV\n",
    "import shap\n",
    "import pickle\n",
    "import matplotlib.image as mpimg\n",
    "from PIL import Image\n",
    "import matplotlib.colors as mcolors\n",
    "from sklearn.preprocessing import MinMaxScaler\n",
    "import matplotlib.pyplot as plt\n",
    "import time"
   ]
  },
  {
   "cell_type": "markdown",
   "id": "60228007",
   "metadata": {},
   "source": [
    "# Data For"
   ]
  },
  {
   "cell_type": "code",
   "execution_count": null,
   "id": "84fe525e",
   "metadata": {},
   "outputs": [],
   "source": [
    "#data_for = '_PredMP'\n",
    "\n",
    "#data_for = '_ExpMP'\n",
    "\n",
    "data_for = '_NoMP'"
   ]
  },
  {
   "cell_type": "code",
   "execution_count": null,
   "id": "02d36e54",
   "metadata": {},
   "outputs": [],
   "source": [
    "black = '#515265'\n",
    "red = '#DD706E'\n",
    "yellow = '#FAAF3A'\n",
    "blue = '#3A93C2'"
   ]
  },
  {
   "cell_type": "code",
   "execution_count": null,
   "id": "bc9077dc",
   "metadata": {},
   "outputs": [],
   "source": [
    "file_path = '../../Exp_2_Dataset_feature_engineering/Summary_and_dataset/refined_dataset' + data_for + '.csv'\n",
    "\n",
    "data = pd.read_csv(file_path)\n",
    "train = data[data['Type'] == 'Train']\n",
    "test = data[data['Type'] == 'Test']\n",
    "lab = data[data['Type'] == 'Lab']"
   ]
  },
  {
   "cell_type": "code",
   "execution_count": null,
   "id": "103a9b9f",
   "metadata": {},
   "outputs": [],
   "source": [
    "overlapping_values = set(train['Drug-solvent system']).intersection(test['Drug-solvent system'])\n",
    "overlapping_values"
   ]
  },
  {
   "cell_type": "code",
   "execution_count": null,
   "id": "f4538b23",
   "metadata": {},
   "outputs": [],
   "source": [
    "def data_processing (dataset):\n",
    "\n",
    "    X = dataset.drop(['Type', 'Drug', 'Solvent_1', 'Solvent_2', 'Drug-solvent system', 'LogS', 'Class', 'Solubility (g/100g)'], axis = 1)\n",
    "    Y = dataset['LogS']\n",
    "    G = dataset['Drug-solvent system']\n",
    "\n",
    "    return X, Y, G"
   ]
  },
  {
   "cell_type": "code",
   "execution_count": null,
   "id": "a1b7be59",
   "metadata": {},
   "outputs": [],
   "source": [
    "X_train, Y_train, G_train = data_processing(train)\n",
    "X_test, Y_test, G_test = data_processing(test)\n",
    "X_lab, Y_lab, G_lab = data_processing(lab)"
   ]
  },
  {
   "cell_type": "markdown",
   "id": "6375ae6f",
   "metadata": {},
   "source": [
    "# Hyperparameter screening"
   ]
  },
  {
   "cell_type": "code",
   "execution_count": null,
   "id": "dc239067",
   "metadata": {},
   "outputs": [],
   "source": [
    "search_spaces = {\n",
    "    \"DT\": {\n",
    "        \"max_depth\": Integer(3, 20),\n",
    "        \"splitter\":Categorical(['best', 'random']),\n",
    "        \"min_samples_split\": Real(0.01, 0.1),\n",
    "        \"min_samples_leaf\": Integer(1, 20),\n",
    "        \"max_features\": Categorical(['auto', 'sqrt', 'log2']),\n",
    "    },\n",
    "    \"RF\": {\n",
    "        \"n_estimators\": Integer(10, 400),\n",
    "        \"max_depth\": Integer(3, 20),\n",
    "        \"min_samples_split\": Real(0.01, 0.1),\n",
    "        \"min_samples_leaf\": Integer(1, 20),\n",
    "        \"max_features\": Categorical(['auto', 'sqrt', 'log2']),\n",
    "        \"bootstrap\": Categorical([True, False]),\n",
    "    },\n",
    "    \"XGB\": {\n",
    "        \"n_estimators\": Integer(10, 400),\n",
    "        \"learning_rate\": Real(0.01, 0.3, prior=\"log-uniform\"),\n",
    "        \"max_depth\": Integer(3, 20),\n",
    "        \"subsample\": Real(0.5, 1.0),\n",
    "        \"colsample_bytree\": Real(0.5, 1.0),\n",
    "        \"gamma\": Real(0, 5),\n",
    "    },\n",
    "    \"NN\": {\n",
    "        \"hidden_layer_sizes\": Integer(2, 64),\n",
    "        \"alpha\": Real(0.0001, 0.1, prior=\"log-uniform\"),\n",
    "        \"learning_rate_init\": Real(0.001, 0.1, prior=\"log-uniform\"),\n",
    "        \"activation\": Categorical(['relu', 'tanh', 'logistic']),\n",
    "},\n",
    "\n",
    "    \"LightGBM\": {\n",
    "        \"num_leaves\": Integer(10, 400),\n",
    "        \"max_depth\": Integer(3, 20),\n",
    "        \"learning_rate\": Real(0.01, 0.3, prior=\"log-uniform\"),\n",
    "        \"n_estimators\": Integer(100, 1000),\n",
    "        \"bagging_fraction\": Real(0.5, 1),\n",
    "        \"feature_fraction\": Real(0.5, 1),\n",
    "        \"min_child_samples\": Integer(5, 100),\n",
    "    },\n",
    "    \"MLR\": {\n",
    "        'fit_intercept':Categorical([True, False]),\n",
    "        'positive':Categorical([True, False])\n",
    "    },\n",
    "    \"Lasso\": {\n",
    "        \"alpha\": Real(0.0001, 1, prior=\"log-uniform\"),\n",
    "        \"selection\": Categorical(['cyclic', 'random']),\n",
    "    },\n",
    "    \"kNN\": {'n_neighbors':Integer(2, 50),\n",
    "            'weights': Categorical([\"uniform\", 'distance']),\n",
    "            'algorithm': Categorical(['auto', 'ball_tree', 'kd_tree', 'brute']),\n",
    "            'leaf_size': Integer(10, 100),\n",
    "            'p':Integer(1, 2),\n",
    "    },\n",
    "    \"PLS\": {'n_components':Integer(2, 6),\n",
    "            'max_iter': Integer(250, 1000)\n",
    "    }\n",
    "    \n",
    "}\n"
   ]
  },
  {
   "cell_type": "code",
   "execution_count": null,
   "id": "c4fb4d0d",
   "metadata": {},
   "outputs": [],
   "source": [
    "search_spaces_df = pd.DataFrame([(model, params) for model, params in search_spaces.items()], columns=['Model', 'Hyperparameters'])\n",
    "\n",
    "search_spaces_df.to_excel('Table_SI_search_space.xlsx', index = False)"
   ]
  },
  {
   "cell_type": "code",
   "execution_count": null,
   "id": "29b880f3",
   "metadata": {},
   "outputs": [],
   "source": [
    "models = {\n",
    "    \"DT\": DecisionTreeRegressor(random_state=0),\n",
    "    \"RF\": RandomForestRegressor(random_state=0, n_jobs=6),\n",
    "    \"XGB\": XGBRegressor(random_state=0, n_jobs=6),\n",
    "    \"NN\": MLPRegressor(random_state=0),\n",
    "    \"LightGBM\": lgb.LGBMRegressor(random_state=0, n_jobs=6),\n",
    "    \"MLR\": LinearRegression(),\n",
    "    \"Lasso\": Lasso(),\n",
    "    \"PLS\": PLSRegression(),\n",
    "    \"kNN\": KNeighborsRegressor(n_jobs=6)}"
   ]
  },
  {
   "cell_type": "code",
   "execution_count": null,
   "id": "c1bda48c",
   "metadata": {},
   "outputs": [],
   "source": [
    "def perform_hp_screening(model_name, X_train, Y_train, G_train, n_iter):\n",
    "\n",
    "    \n",
    "    model = models[model_name]\n",
    "    search_space = search_spaces[model_name]\n",
    "    \n",
    "    \n",
    "    cv = GroupKFold(n_splits=10)\n",
    "\n",
    "    \n",
    "    bscv = BayesSearchCV(\n",
    "        estimator=model,\n",
    "        search_spaces=search_space,\n",
    "        scoring='neg_mean_absolute_error',\n",
    "        cv=cv,\n",
    "        n_iter=n_iter,\n",
    "        n_jobs=6,\n",
    "        verbose=0,\n",
    "        random_state = 0\n",
    "    )\n",
    "\n",
    "    \n",
    "    bscv.fit(X_train, Y_train, groups=G_train)\n",
    "    optimization_history = bscv.cv_results_\n",
    "\n",
    "\n",
    "    \n",
    "    return bscv.best_estimator_, bscv.best_params_, bscv.best_score_, optimization_history\n"
   ]
  },
  {
   "cell_type": "code",
   "execution_count": null,
   "id": "4f54dab6",
   "metadata": {},
   "outputs": [],
   "source": [
    "#model_names = [\"DT\", \"RF\", \"XGB\",  \"NN\", \"LightGBM\", \"MLR\", \"Lasso\", \"PLS\", \"kNN\"]\n",
    "\n",
    "model_names = [\"LightGBM\", \"XGB\"]\n",
    "\n",
    "n_iter = 100\n",
    "\n"
   ]
  },
  {
   "cell_type": "code",
   "execution_count": null,
   "id": "0b8d7dc6",
   "metadata": {},
   "outputs": [],
   "source": [
    "#model_names = [\"DT\", \"RF\", \"XGB\",  \"NN\", \"LightGBM\", \"MLR\", \"Lasso\", \"PLS\", \"kNN\"]\n",
    "\n",
    "model_names = [\"DT\", \"RF\", \"NN\", \"MLR\", \"Lasso\", \"PLS\", \"kNN\"]\n",
    "\n",
    "\n",
    "results = {}\n",
    "\n",
    "n_iter = 100\n"
   ]
  },
  {
   "cell_type": "code",
   "execution_count": null,
   "id": "433db137",
   "metadata": {
    "scrolled": true
   },
   "outputs": [],
   "source": [
    "for model_name in model_names:\n",
    "    result = {}\n",
    "\n",
    "    start = time.time()\n",
    "    search_space = search_spaces[model_name]\n",
    "    best_model, best_params, best_score, history = perform_hp_screening(model_name, X_train, Y_train, G_train, n_iter)\n",
    "    end = time.time()\n",
    "    \n",
    "    print()\n",
    "    print(model_name, ':  ', round(best_score,3))\n",
    "    print(round((end-start)/60, 1), 'min')\n",
    "    print()\n",
    "    \n",
    "    # Storing the results in a dictionary\n",
    "    result[model_name] = {\n",
    "        'best_estimator': best_model,\n",
    "        'best_params': best_params,\n",
    "        'best_score': best_score,\n",
    "        'optimization_history': history\n",
    "    }\n",
    "\n",
    "    pickle_file_path = 'Results/' + model_name + '_BSCV_results' + data_for + '.pkl'\n",
    "\n",
    "    with open(pickle_file_path, 'wb') as handle:\n",
    "        pickle.dump(result, handle, protocol=pickle.HIGHEST_PROTOCOL)"
   ]
  },
  {
   "cell_type": "code",
   "execution_count": null,
   "id": "ed11242b",
   "metadata": {},
   "outputs": [],
   "source": [
    "model_names = [\"DT\", \"RF\", \"XGB\",  \"NN\", \"LightGBM\", \"MLR\", \"Lasso\", \"PLS\", \"kNN\"]"
   ]
  },
  {
   "cell_type": "code",
   "execution_count": null,
   "id": "f1a453cb",
   "metadata": {},
   "outputs": [],
   "source": [
    "results = {}\n",
    "\n",
    "for model_name in model_names:\n",
    "\n",
    "    pickle_file_path = 'Results/' + model_name + '_BSCV_results' + data_for + '.pkl'\n",
    "    \n",
    "    with open(pickle_file_path, 'rb') as handle:\n",
    "        result = pickle.load(handle)\n",
    "        \n",
    "    results[model_name] = {\n",
    "        'best_estimator': result[model_name]['best_estimator'],\n",
    "        'best_params': result[model_name]['best_params'],\n",
    "        'best_score': result[model_name]['best_score'],\n",
    "        'optimization_history': result[model_name]['optimization_history']\n",
    "    }"
   ]
  },
  {
   "cell_type": "code",
   "execution_count": null,
   "id": "72c9f6e4",
   "metadata": {},
   "outputs": [],
   "source": [
    "combined_pickle_file_path = 'Results/BSCV_results' + data_for + '.pkl'"
   ]
  },
  {
   "cell_type": "code",
   "execution_count": null,
   "id": "1901ac3b",
   "metadata": {},
   "outputs": [],
   "source": [
    "\n",
    "\n",
    "with open(combined_pickle_file_path, 'wb') as handle:\n",
    "    pickle.dump(results, handle, protocol=pickle.HIGHEST_PROTOCOL)"
   ]
  },
  {
   "cell_type": "code",
   "execution_count": null,
   "id": "366df8ff",
   "metadata": {},
   "outputs": [],
   "source": [
    "\n",
    "with open(combined_pickle_file_path, 'rb') as handle:\n",
    "    results = pickle.load(handle)"
   ]
  },
  {
   "cell_type": "code",
   "execution_count": null,
   "id": "b0ebf5a8",
   "metadata": {},
   "outputs": [],
   "source": [
    "\n",
    "fig, axs = plt.subplots(3, 3, figsize=(15, 15))\n",
    "\n",
    "\n",
    "for idx, model_name in enumerate(model_names):\n",
    "    optimization_history = results[model_name]['optimization_history']\n",
    "\n",
    "    scores = optimization_history['mean_test_score']\n",
    "    iterations = range(1, len(scores) + 1)\n",
    "\n",
    "    best_scores = np.maximum.accumulate(scores)\n",
    "\n",
    "    ax = axs[idx // 3, idx % 3]  \n",
    "    ax.plot(iterations, scores, marker='o', label='Iteration Scores')\n",
    "    ax.plot(iterations, best_scores, marker='x', linestyle='--', label='Best Scores')\n",
    "    ax.set_xlabel('HP Optimization Iteration')\n",
    "    ax.set_ylabel('Negative Mean Absolute Error')\n",
    "    ax.set_title(model_name)\n",
    "    ax.legend()\n",
    "    ax.grid(True)\n",
    "\n",
    "\n",
    "plt.tight_layout()\n",
    "\n",
    "\n",
    "fig.savefig('Optimization_history' + data_for + '.png', dpi=300, format='png', transparent=True)\n",
    "\n",
    "plt.show()"
   ]
  },
  {
   "cell_type": "code",
   "execution_count": null,
   "id": "c1a9483b",
   "metadata": {},
   "outputs": [],
   "source": [
    "optimized_HP_df = pd.DataFrame([(model, best_params) for model, best_params in results.items()], columns=['Model', 'Best Hyperparameter'])\n",
    "optimized_HP_df.to_excel('Table_SI_optimized_HP' + data_for + '.xlsx', index = False)\n",
    "\n",
    "\n"
   ]
  },
  {
   "cell_type": "markdown",
   "id": "5a8b18ae",
   "metadata": {},
   "source": [
    "# Model evaluation using the literature test set"
   ]
  },
  {
   "cell_type": "code",
   "execution_count": null,
   "id": "405866ac",
   "metadata": {
    "scrolled": true
   },
   "outputs": [],
   "source": [
    "def rmse(y_true, y_pred):\n",
    "    return np.sqrt(mean_squared_error(y_true, y_pred))\n",
    "\n",
    "metrics = ['MAE', 'MedAE', 'RMSE', 'MSE', 'PCC', 'SCC']\n",
    "train_summary = pd.DataFrame(index=metrics, columns=model_names)\n",
    "test_summary = pd.DataFrame(index=metrics, columns=model_names)\n",
    "predictions = pd.DataFrame(columns=model_names)\n",
    "\n",
    "for model_name in model_names:\n",
    "    model = results[model_name]['best_estimator']\n",
    "\n",
    "    cv = GroupKFold(n_splits=10)\n",
    "    Y_pred_train = cross_val_predict(model, X_train, Y_train, cv=cv, groups=G_train, n_jobs=6)\n",
    "\n",
    "    Y_train = np.ravel(Y_train)\n",
    "    Y_pred_train = np.ravel(Y_pred_train)\n",
    "    \n",
    "    train_summary[model_name]['MAE'] = mean_absolute_error(Y_train, Y_pred_train)\n",
    "    train_summary[model_name]['MedAE'] = np.median(abs(Y_train - Y_pred_train))\n",
    "    train_summary[model_name]['RMSE'] = rmse(Y_train, Y_pred_train)\n",
    "    train_summary[model_name]['MSE'] = mean_squared_error(Y_train, Y_pred_train)\n",
    "    train_summary[model_name]['PCC'] = pearsonr(Y_train, Y_pred_train)[0]\n",
    "    train_summary[model_name]['SCC'] = spearmanr(Y_train, Y_pred_train)[0]\n",
    "\n",
    "\n",
    "\n",
    "    model.fit(X_train, Y_train)\n",
    "    Y_pred_test = model.predict(X_test)\n",
    "    \n",
    "    Y_pred_test = np.ravel(Y_pred_test)\n",
    "    \n",
    "    test_summary[model_name]['MAE'] = mean_absolute_error(Y_test, Y_pred_test)\n",
    "    test_summary[model_name]['MedAE'] = np.median(abs(Y_test - Y_pred_test))\n",
    "    test_summary[model_name]['RMSE'] = rmse(Y_test, Y_pred_test)\n",
    "    test_summary[model_name]['MSE'] = mean_squared_error(Y_test, Y_pred_test)\n",
    "    test_summary[model_name]['PCC'] = pearsonr(Y_test, Y_pred_test)[0]\n",
    "    test_summary[model_name]['SCC'] = spearmanr(Y_test, Y_pred_test)[0]\n",
    "    \n",
    "    predictions[model_name] = Y_pred_test"
   ]
  },
  {
   "cell_type": "code",
   "execution_count": null,
   "id": "47196b2a",
   "metadata": {
    "scrolled": true
   },
   "outputs": [],
   "source": [
    "train_summary"
   ]
  },
  {
   "cell_type": "code",
   "execution_count": null,
   "id": "05dd54c4",
   "metadata": {},
   "outputs": [],
   "source": [
    "test_summary"
   ]
  },
  {
   "cell_type": "code",
   "execution_count": null,
   "id": "e48d9e5c",
   "metadata": {},
   "outputs": [],
   "source": [
    "test_AE = predictions.copy()\n",
    "\n",
    "test_AE['Y'] = Y_test.values\n",
    "\n",
    "for model_name in model_names:\n",
    "    test_AE[model_name] = abs(test_AE[model_name] - test_AE['Y'])\n",
    "    \n",
    "test_AE = test_AE.drop(['Y'], axis = 1)    \n",
    "test_AE"
   ]
  },
  {
   "cell_type": "code",
   "execution_count": null,
   "id": "7985e8e5",
   "metadata": {},
   "outputs": [],
   "source": [
    "for column in train_summary.columns:\n",
    "    train_summary[column] = train_summary[column].astype(float)\n",
    "    test_summary[column] = test_summary[column].astype(float)"
   ]
  },
  {
   "cell_type": "code",
   "execution_count": null,
   "id": "6855680e",
   "metadata": {},
   "outputs": [],
   "source": [
    "train_summary_round = train_summary.round(2)\n",
    "test_summary_round = test_summary.round(2)"
   ]
  },
  {
   "cell_type": "code",
   "execution_count": null,
   "id": "d2859080",
   "metadata": {},
   "outputs": [],
   "source": [
    "train_summary_round"
   ]
  },
  {
   "cell_type": "code",
   "execution_count": null,
   "id": "b21a4786",
   "metadata": {},
   "outputs": [],
   "source": [
    "test_summary_round"
   ]
  },
  {
   "cell_type": "code",
   "execution_count": null,
   "id": "ef30d18b",
   "metadata": {},
   "outputs": [],
   "source": [
    "test_summary_round_T = test_summary_round.T\n",
    "test_summary_round_T"
   ]
  },
  {
   "cell_type": "code",
   "execution_count": null,
   "id": "c4e40a6e",
   "metadata": {},
   "outputs": [],
   "source": [
    "sorted_models_ind = test_summary_round_T.sort_values(by=\"MAE\", ascending=True).index\n",
    "sorted_models = test_summary_round_T.loc[sorted_models_ind]\n",
    "sorted_models\n",
    "\n"
   ]
  },
  {
   "cell_type": "code",
   "execution_count": null,
   "id": "0b9ec316",
   "metadata": {},
   "outputs": [],
   "source": [
    "test_AE = test_AE[sorted_models_ind]\n",
    "test_AE"
   ]
  },
  {
   "cell_type": "code",
   "execution_count": null,
   "id": "0f8e05a7",
   "metadata": {},
   "outputs": [],
   "source": [
    "test_summary_round = test_summary_round[sorted_models_ind]\n",
    "test_summary_round.to_excel('Figure_3b' + data_for + '.xlsx', index = True)\n",
    "test_summary_round"
   ]
  },
  {
   "cell_type": "code",
   "execution_count": null,
   "id": "516c2f01",
   "metadata": {},
   "outputs": [],
   "source": [
    "train_summary_round = train_summary_round[sorted_models_ind]\n",
    "train_summary_round.to_excel('Figure_SI_training_results' + data_for + '.xlsx', index = True)\n",
    "train_summary_round"
   ]
  },
  {
   "cell_type": "code",
   "execution_count": null,
   "id": "37396695",
   "metadata": {},
   "outputs": [],
   "source": [
    "\n",
    "plt.figure(figsize=(10, 4))\n",
    "plt.rcParams.update({'font.size': 12})\n",
    "\n",
    "\n",
    "palette = [red] + [blue] * (len(test_AE.columns) - 1)\n",
    "\n",
    "\n",
    "sns.boxplot(data=test_AE.drop(['MLR'],axis=1), palette=palette, showfliers=False, showmeans=True,linewidth = 1.0, \n",
    "            meanprops={\"marker\":\"o\", \"markerfacecolor\":\"white\", \"markeredgecolor\":\"white\", \"markersize\": 7, \"markeredgewidth\": 0.5, \"markeredgecolor\": \"black\"})\n",
    "\n",
    "        \n",
    "plt.title('')\n",
    "plt.ylabel('Model Absolute Error')\n",
    "\n",
    "plt.annotate('a)', xy=(0, 1.06), xycoords=\"axes fraction\", va=\"top\", ha=\"left\", fontsize=12)\n",
    "plt.savefig('Figure_3a_Model_test_boxplots' + data_for + '.png', transparent=True, dpi=300)"
   ]
  },
  {
   "cell_type": "code",
   "execution_count": null,
   "id": "d3e106f2",
   "metadata": {},
   "outputs": [],
   "source": [
    "\n",
    "plt.figure(figsize=(10, 4))\n",
    "plt.rcParams.update({'font.size': 12})\n",
    "\n",
    "\n",
    "palette = [red] + [blue] * (len(test_AE.columns) - 1)\n",
    "\n",
    "\n",
    "sns.boxplot(data=test_AE.drop(['MLR'],axis=1), palette=palette, showfliers=True, showmeans=True,linewidth = 1.0, \n",
    "            meanprops={\"marker\":\"o\", \"markerfacecolor\":\"white\", \"markeredgecolor\":\"white\", \"markersize\": 7, \"markeredgewidth\": 0.5, \"markeredgecolor\": \"black\"})\n",
    "\n",
    "\n",
    "        \n",
    "plt.title('')\n",
    "plt.ylabel('Model Absolute Error')\n",
    "\n",
    "plt.annotate('a)', xy=(0, 1.06), xycoords=\"axes fraction\", va=\"top\", ha=\"left\", fontsize=12)\n",
    "plt.savefig('Figure_SI_model_test_boxplots_with_outliers' + data_for + '.png', transparent=True, dpi=300)"
   ]
  },
  {
   "cell_type": "code",
   "execution_count": null,
   "id": "fd2628bf",
   "metadata": {},
   "outputs": [],
   "source": []
  },
  {
   "cell_type": "code",
   "execution_count": null,
   "id": "cd5e9168",
   "metadata": {},
   "outputs": [],
   "source": []
  }
 ],
 "metadata": {
  "kernelspec": {
   "display_name": "Python 3 (ipykernel)",
   "language": "python",
   "name": "python3"
  },
  "language_info": {
   "codemirror_mode": {
    "name": "ipython",
    "version": 3
   },
   "file_extension": ".py",
   "mimetype": "text/x-python",
   "name": "python",
   "nbconvert_exporter": "python",
   "pygments_lexer": "ipython3",
   "version": "3.10.10"
  }
 },
 "nbformat": 4,
 "nbformat_minor": 5
}
