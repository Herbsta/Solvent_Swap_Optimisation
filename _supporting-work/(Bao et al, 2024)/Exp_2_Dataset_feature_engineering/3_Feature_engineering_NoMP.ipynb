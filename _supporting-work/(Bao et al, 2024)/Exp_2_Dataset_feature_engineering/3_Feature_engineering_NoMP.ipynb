{
 "cells": [
  {
   "cell_type": "code",
   "execution_count": null,
   "id": "b85f089c",
   "metadata": {},
   "outputs": [],
   "source": [
    "import pandas as pd\n",
    "import numpy as np\n",
    "from sklearn.preprocessing import StandardScaler\n",
    "from sklearn.decomposition import PCA\n",
    "import matplotlib.pyplot as plt\n",
    "\n",
    "import lightgbm as lgb\n",
    "from sklearn.metrics import mean_absolute_error\n",
    "from sklearn.metrics import mean_squared_error\n",
    "from sklearn.metrics import r2_score\n",
    "from math import sqrt\n",
    "\n",
    "from sklearn.model_selection import GroupKFold, cross_val_predict\n",
    "from sklearn.feature_selection import SelectKBest\n",
    "from sklearn.feature_selection import mutual_info_regression\n",
    "from sklearn.feature_selection import f_regression\n",
    "from sklearn.feature_selection import r_regression"
   ]
  },
  {
   "cell_type": "markdown",
   "id": "0430d1d7",
   "metadata": {},
   "source": [
    "# Data for"
   ]
  },
  {
   "cell_type": "code",
   "execution_count": null,
   "id": "e6904a44",
   "metadata": {},
   "outputs": [],
   "source": [
    "#data_for = '_PredMP'\n",
    "\n",
    "#data_for = '_ExpMP'\n",
    "\n",
    "data_for = '_NoMP'"
   ]
  },
  {
   "cell_type": "code",
   "execution_count": null,
   "id": "5ce7cdb4",
   "metadata": {},
   "outputs": [],
   "source": [
    "file_path = \"../Exp_1_Raw_Dataset/Raw_dataset_dataset_20240705.csv\"\n",
    "\n",
    "data = pd.read_csv(file_path)"
   ]
  },
  {
   "cell_type": "code",
   "execution_count": null,
   "id": "04911b32",
   "metadata": {},
   "outputs": [],
   "source": [
    "data = data.sort_values('Type', ascending=False)\n",
    "data = data.reset_index(drop = True)\n",
    "data"
   ]
  },
  {
   "cell_type": "code",
   "execution_count": null,
   "id": "cccabb5e",
   "metadata": {},
   "outputs": [],
   "source": [
    "train = data[data['Type'] == 'Train']\n",
    "test = data[data['Type'] == 'Test']\n",
    "lab = data[data['Type'] == 'Lab']"
   ]
  },
  {
   "cell_type": "code",
   "execution_count": null,
   "id": "5e5ed2d0",
   "metadata": {},
   "outputs": [],
   "source": [
    "cols_to_drop = ['Drug','Solvent_1', 'Solvent_2',  \n",
    "                 'Drug-solvent system', 'Solubility (g/100g)', 'LogS', 'Class', 'Drug_SMILES', 'Type']\n",
    "\n",
    "if data_for == '_ExpMP':\n",
    "    cols_to_drop = cols_to_drop + ['Drug_Predicted_Melting_temp (K)']\n",
    "elif data_for == '_PredMP':\n",
    "    cols_to_drop = cols_to_drop + ['Drug_Collected_Melting_temp (K)']\n",
    "elif data_for == '_NoMP':\n",
    "    cols_to_drop = cols_to_drop + ['Drug_Predicted_Melting_temp (K)'] + ['Drug_Collected_Melting_temp (K)']\n",
    "else:\n",
    "    print(\"Something wrong\")\n",
    "\n",
    "cols_to_drop"
   ]
  },
  {
   "cell_type": "code",
   "execution_count": null,
   "id": "7ff08996",
   "metadata": {},
   "outputs": [],
   "source": [
    "X_train = train.drop(cols_to_drop, axis = 1)\n",
    "X_test = test.drop(cols_to_drop, axis = 1)\n",
    "X_lab = lab.drop(cols_to_drop, axis = 1)"
   ]
  },
  {
   "cell_type": "code",
   "execution_count": null,
   "id": "0103f0d2",
   "metadata": {},
   "outputs": [],
   "source": [
    "X_train.shape"
   ]
  },
  {
   "cell_type": "code",
   "execution_count": null,
   "id": "955e0632",
   "metadata": {},
   "outputs": [],
   "source": [
    "X_lab.shape"
   ]
  },
  {
   "cell_type": "markdown",
   "id": "e42e64c5",
   "metadata": {},
   "source": [
    "# Remove the identical columns"
   ]
  },
  {
   "cell_type": "code",
   "execution_count": null,
   "id": "2d20e260",
   "metadata": {},
   "outputs": [],
   "source": [
    "variance = X_train.var()\n",
    "\n",
    "columns_to_drop = variance[variance == 0].index\n",
    "\n",
    "X_train = X_train.drop(columns=columns_to_drop)\n",
    "\n",
    "X_train.shape"
   ]
  },
  {
   "cell_type": "markdown",
   "id": "541d4610",
   "metadata": {},
   "source": [
    "# Remove the highly correlated columns"
   ]
  },
  {
   "cell_type": "code",
   "execution_count": null,
   "id": "624ad40f",
   "metadata": {},
   "outputs": [],
   "source": [
    "def reduce_columns_by_correlation(data, threshold):\n",
    "    corr_matrix = data.corr().abs()\n",
    "    columns_to_drop = set()\n",
    "    results_data = []\n",
    "\n",
    "    for col in data.columns[:-1]:\n",
    "        if col not in columns_to_drop:\n",
    "            high_corr_columns = corr_matrix.loc[col, corr_matrix.loc[col, :] > threshold].index.tolist()\n",
    "            \n",
    "            if col in high_corr_columns:\n",
    "                high_corr_columns.remove(col)\n",
    "\n",
    "            columns_to_drop.update(high_corr_columns)\n",
    "            results_data.append({'iteration': col, 'columns left': len(data.columns) - len(columns_to_drop)})\n",
    "\n",
    "    data = data.drop(columns=list(columns_to_drop))\n",
    "\n",
    "\n",
    "    return data\n"
   ]
  },
  {
   "cell_type": "code",
   "execution_count": null,
   "id": "8734d6d9",
   "metadata": {},
   "outputs": [],
   "source": [
    "X_train = reduce_columns_by_correlation(X_train, 0.8)\n",
    "X_train.shape"
   ]
  },
  {
   "cell_type": "code",
   "execution_count": null,
   "id": "0091164c",
   "metadata": {},
   "outputs": [],
   "source": [
    "X_test = X_test[X_train.columns]\n",
    "X_lab = X_lab[X_train.columns]"
   ]
  },
  {
   "cell_type": "code",
   "execution_count": null,
   "id": "a0bcc28e",
   "metadata": {},
   "outputs": [],
   "source": [
    "scaler = StandardScaler()\n",
    "pca = PCA()\n",
    "\n",
    "scaler.fit(X_train)\n",
    "\n",
    "X_train_scaled = scaler.transform(X_train)\n",
    "X_test_scaled = scaler.transform(X_test)\n",
    "X_lab_scaled = scaler.transform(X_lab)\n",
    "\n",
    "\n",
    "X_train_scaled_df = pd.DataFrame(X_train_scaled, columns = X_train.columns)\n",
    "X_test_scaled_df = pd.DataFrame(X_test_scaled, columns = X_test.columns)\n",
    "X_lab_scaled_df = pd.DataFrame(X_lab_scaled, columns = X_lab.columns)\n",
    "\n",
    "\n",
    "pca.fit(X_train_scaled)\n",
    "\n",
    "X_train_pca = pca.transform(X_train_scaled)\n",
    "X_test_pca = pca.transform(X_test_scaled)\n",
    "X_lab_pca = pca.transform(X_lab_scaled)"
   ]
  },
  {
   "cell_type": "code",
   "execution_count": null,
   "id": "9f4c9464",
   "metadata": {},
   "outputs": [],
   "source": [
    "red = '#DD706E'\n",
    "grey = '#515265'\n",
    "yellow = '#FAAF3A'\n",
    "blue = '#3A93C2'\n",
    "\n",
    "\n",
    "threshold = 0.95\n",
    "\n",
    "explained_variance_ratio = pca.explained_variance_ratio_\n",
    "cumulative_explained_variance = np.cumsum(explained_variance_ratio)\n",
    "pc_number_threshold = np.argmax(cumulative_explained_variance >= threshold) + 1\n",
    "\n",
    "\n",
    "pca_summary_threshold = pd.DataFrame({\n",
    "    'PCA': range(1, pc_number_threshold + 1),\n",
    "    'Variance': explained_variance_ratio[:pc_number_threshold] * 100,\n",
    "    'Cumulative Variance': cumulative_explained_variance[:pc_number_threshold] * 100\n",
    "})\n",
    "\n",
    "\n",
    "fontsize = 16\n",
    "fig, ax1 = plt.subplots(figsize=(12, 6))\n",
    "ax1.bar(pca_summary_threshold['PCA'], pca_summary_threshold['Variance'], alpha=1.0, label='Variance explained', color=blue)\n",
    "\n",
    "\n",
    "ax2 = ax1.twinx()\n",
    "\n",
    "ax2.plot(pca_summary_threshold['PCA'], pca_summary_threshold['Cumulative Variance'], \n",
    "         marker='o', markersize=8, markeredgewidth=0.5, markeredgecolor='black', \n",
    "         linestyle='-', color=red, label='Cumulative variance explained')\n",
    "\n",
    "\n",
    "\n",
    "ax2.fill_between(pca_summary_threshold['PCA'], 0.0, pca_summary_threshold['Cumulative Variance'], color=red, alpha=0.2)\n",
    "\n",
    "\n",
    "last_pca = pca_summary_threshold['PCA'].iloc[-1]\n",
    "last_cumulative_variance = pca_summary_threshold['Cumulative Variance'].iloc[-1]\n",
    "ax2.scatter(last_pca, last_cumulative_variance, color=grey, zorder=5, s = 70)  \n",
    "\n",
    "\n",
    "ax2.annotate(f'({last_pca}, {last_cumulative_variance:.2f}%)', \n",
    "             xy=(last_pca, last_cumulative_variance), \n",
    "             xytext=(last_pca-15, last_cumulative_variance-15),\n",
    "             fontsize=fontsize,\n",
    "             arrowprops=dict(facecolor='black', arrowstyle='->'))\n",
    "\n",
    "\n",
    "ax1.set_title('', fontsize=fontsize)\n",
    "ax1.set_xlabel('Number of PCA components', fontsize=fontsize)\n",
    "ax1.set_ylabel('Variance explained (%)', fontsize=fontsize)\n",
    "ax2.set_ylabel('Cumulative variance explained (%)', fontsize=fontsize)\n",
    "\n",
    "\n",
    "ax1.set_ylim(0, 10)\n",
    "ax2.set_ylim(0, 110)\n",
    "ax2.set_xlim(-2, last_pca+2)\n",
    "\n",
    "\n",
    "ax1.tick_params(axis='both', which='major', labelsize=fontsize)\n",
    "ax2.tick_params(axis='y', which='major', labelsize=fontsize)\n",
    "\n",
    "\n",
    "handles1, labels1 = ax1.get_legend_handles_labels()\n",
    "handles2, labels2 = ax2.get_legend_handles_labels()\n",
    "handles = handles1 + handles2\n",
    "labels = labels1 + labels2\n",
    "lgd = ax1.legend(handles, labels, loc='upper left', bbox_to_anchor=(0.1, 1), fontsize=fontsize-2, frameon=False, ncol=2)\n",
    "\n",
    "\n",
    "ax1.set_facecolor('none')\n",
    "fig.patch.set_alpha(0.0)\n",
    "ax1.grid(False)\n",
    "\n",
    "\n",
    "fig.canvas.print_figure('Figure_SI' + data_for + '_PCA.png', dpi=600)\n",
    "\n",
    "plt.show()"
   ]
  },
  {
   "cell_type": "code",
   "execution_count": null,
   "id": "99c34888",
   "metadata": {},
   "outputs": [],
   "source": [
    "feat_to_keep = [f\"PC{i+1}\" for i in range(pc_number_threshold)]\n",
    "pca_all_feat = [f\"PC{i+1}\" for i in range(X_train_pca.shape[1])]\n",
    "col_to_add = ['Drug','Solvent_1', 'Solvent_2', 'Drug-solvent system', 'LogS', 'Class', 'Solubility (g/100g)']\n"
   ]
  },
  {
   "cell_type": "code",
   "execution_count": null,
   "id": "906bc238",
   "metadata": {},
   "outputs": [],
   "source": [
    "def dataset_generator(X_train_array, X_test_array, X_lab_array, data, all_feat, feat_to_keep, col_to_add):\n",
    "    \n",
    "    X_train = pd.DataFrame(X_train_array, columns = all_feat)\n",
    "    X_test = pd.DataFrame(X_test_array, columns = all_feat)\n",
    "    X_lab = pd.DataFrame(X_lab_array, columns = all_feat)\n",
    "    \n",
    "    X_train = X_train[feat_to_keep]\n",
    "    X_test = X_test[feat_to_keep]\n",
    "    X_lab = X_lab[feat_to_keep]\n",
    "    \n",
    "    X_train['Type'] = 'Train'\n",
    "    X_test['Type'] = 'Test'\n",
    "    X_lab['Type'] = 'Lab'\n",
    "    \n",
    "    combined_df = pd.concat([X_train, X_test, X_lab], ignore_index=True)\n",
    "    \n",
    "    for col in col_to_add:\n",
    "        combined_df[col] = data[col]\n",
    "        \n",
    "    train_subset = combined_df[combined_df['Type'] == 'Train']\n",
    "    test_subset = combined_df[combined_df['Type'] == 'Test']\n",
    "    \n",
    "\n",
    "    overlapping_groups = set(train_subset['Drug-solvent system']).intersection(set(test_subset['Drug-solvent system']))\n",
    "    \n",
    "    if (combined_df['Type'].equals(data['Type'])):\n",
    "        print('First check:  passed')     \n",
    "    else:\n",
    "        print('First check:  failed')\n",
    "        \n",
    "    if (combined_df['LogS'].equals(data['LogS'])):\n",
    "        print('Second check: passed')     \n",
    "    else:\n",
    "        print('Second check: failed')\n",
    "        \n",
    "    if (combined_df['Drug'].equals(data['Drug'])):\n",
    "        print('Third check:  passed')     \n",
    "    else:\n",
    "        print('Third check:  failed')\n",
    "    \n",
    "    print(\"Number of overlapping train/test groups: \", len(overlapping_groups))\n",
    "    \n",
    "    return combined_df"
   ]
  },
  {
   "cell_type": "code",
   "execution_count": null,
   "id": "6957b5b4",
   "metadata": {},
   "outputs": [],
   "source": [
    "dataset_PCA = dataset_generator(X_train_array = X_train_pca, X_test_array = X_test_pca, \n",
    "                                X_lab_array = X_lab_pca,\n",
    "                                data = data, all_feat = pca_all_feat, \n",
    "                                feat_to_keep = feat_to_keep, col_to_add = col_to_add)\n",
    "dataset_PCA.shape\n"
   ]
  },
  {
   "cell_type": "code",
   "execution_count": null,
   "id": "d5be50c5",
   "metadata": {},
   "outputs": [],
   "source": [
    "dataset_PCA"
   ]
  },
  {
   "cell_type": "code",
   "execution_count": null,
   "id": "225071bd",
   "metadata": {},
   "outputs": [],
   "source": [
    "dataset_PCA.to_csv('Summary_and_dataset/PCA_dataset' + data_for + '.csv', index = False)"
   ]
  },
  {
   "cell_type": "code",
   "execution_count": null,
   "id": "8c224da2",
   "metadata": {},
   "outputs": [],
   "source": [
    "X_train_scaled_df.shape"
   ]
  },
  {
   "cell_type": "code",
   "execution_count": null,
   "id": "2ea826ac",
   "metadata": {},
   "outputs": [],
   "source": [
    "train['LogS'].shape"
   ]
  },
  {
   "cell_type": "code",
   "execution_count": null,
   "id": "975a61cf",
   "metadata": {},
   "outputs": [],
   "source": [
    "refined_dataset = dataset_generator(X_train_array = X_train_scaled, X_test_array = X_test_scaled, \n",
    "                                X_lab_array = X_lab_scaled,\n",
    "                                data = data, all_feat = X_train.columns, \n",
    "                                feat_to_keep = X_train_scaled_df.columns, col_to_add = col_to_add)\n",
    "refined_dataset.shape\n"
   ]
  },
  {
   "cell_type": "code",
   "execution_count": null,
   "id": "7637c901",
   "metadata": {},
   "outputs": [],
   "source": [
    "refined_dataset.to_csv('Summary_and_dataset/refined_dataset' + data_for + '.csv', index = False)\n"
   ]
  },
  {
   "cell_type": "code",
   "execution_count": null,
   "id": "15b65108",
   "metadata": {},
   "outputs": [],
   "source": []
  },
  {
   "cell_type": "code",
   "execution_count": null,
   "id": "ab3a367c",
   "metadata": {},
   "outputs": [],
   "source": []
  }
 ],
 "metadata": {
  "kernelspec": {
   "display_name": "Python 3 (ipykernel)",
   "language": "python",
   "name": "python3"
  },
  "language_info": {
   "codemirror_mode": {
    "name": "ipython",
    "version": 3
   },
   "file_extension": ".py",
   "mimetype": "text/x-python",
   "name": "python",
   "nbconvert_exporter": "python",
   "pygments_lexer": "ipython3",
   "version": "3.10.10"
  }
 },
 "nbformat": 4,
 "nbformat_minor": 5
}
